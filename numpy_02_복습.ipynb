{
  "nbformat": 4,
  "nbformat_minor": 0,
  "metadata": {
    "colab": {
      "provenance": [],
      "include_colab_link": true
    },
    "kernelspec": {
      "name": "python3",
      "display_name": "Python 3"
    },
    "language_info": {
      "name": "python"
    }
  },
  "cells": [
    {
      "cell_type": "markdown",
      "metadata": {
        "id": "view-in-github",
        "colab_type": "text"
      },
      "source": [
        "<a href=\"https://colab.research.google.com/github/minjung00/Numpy/blob/main/numpy_02_%EB%B3%B5%EC%8A%B5.ipynb\" target=\"_parent\"><img src=\"https://colab.research.google.com/assets/colab-badge.svg\" alt=\"Open In Colab\"/></a>"
      ]
    },
    {
      "cell_type": "code",
      "execution_count": null,
      "metadata": {
        "id": "49i5_ibZQgLO"
      },
      "outputs": [],
      "source": [
        "import numpy as np"
      ]
    },
    {
      "cell_type": "markdown",
      "source": [
        "# 벡터화 연산"
      ],
      "metadata": {
        "id": "fJRKLx98fjjc"
      }
    },
    {
      "cell_type": "code",
      "source": [
        "x = np.arange(1, 10001)\n",
        "y = np.arange(10001, 20001)\n",
        "x, y"
      ],
      "metadata": {
        "colab": {
          "base_uri": "https://localhost:8080/"
        },
        "id": "wawiwKZge4Mb",
        "outputId": "cb314503-5b11-46e7-ee1e-26d5c1ee037d"
      },
      "execution_count": null,
      "outputs": [
        {
          "output_type": "execute_result",
          "data": {
            "text/plain": [
              "(array([    1,     2,     3, ...,  9998,  9999, 10000]),\n",
              " array([10001, 10002, 10003, ..., 19998, 19999, 20000]))"
            ]
          },
          "metadata": {},
          "execution_count": 2
        }
      ]
    },
    {
      "cell_type": "code",
      "source": [
        "z = x + y\n",
        "z"
      ],
      "metadata": {
        "colab": {
          "base_uri": "https://localhost:8080/"
        },
        "id": "VyFEIGw3fGch",
        "outputId": "dec53f90-30c2-474d-8763-28ede8dd6ccf"
      },
      "execution_count": null,
      "outputs": [
        {
          "output_type": "execute_result",
          "data": {
            "text/plain": [
              "array([10002, 10004, 10006, ..., 29996, 29998, 30000])"
            ]
          },
          "metadata": {},
          "execution_count": 3
        }
      ]
    },
    {
      "cell_type": "code",
      "source": [
        "x == y"
      ],
      "metadata": {
        "colab": {
          "base_uri": "https://localhost:8080/"
        },
        "id": "1ysp_ekMfK0L",
        "outputId": "1495c135-ec22-4c4f-c1b9-538c68a5fb4e"
      },
      "execution_count": null,
      "outputs": [
        {
          "output_type": "execute_result",
          "data": {
            "text/plain": [
              "array([False, False, False, ..., False, False, False])"
            ]
          },
          "metadata": {},
          "execution_count": 4
        }
      ]
    },
    {
      "cell_type": "code",
      "source": [
        "(x == y) | (x < y)"
      ],
      "metadata": {
        "colab": {
          "base_uri": "https://localhost:8080/"
        },
        "id": "be11y7MBfQSL",
        "outputId": "5bbab9bd-99a9-4939-a3cf-69ed5475f750"
      },
      "execution_count": null,
      "outputs": [
        {
          "output_type": "execute_result",
          "data": {
            "text/plain": [
              "array([ True,  True,  True, ...,  True,  True,  True])"
            ]
          },
          "metadata": {},
          "execution_count": 5
        }
      ]
    },
    {
      "cell_type": "code",
      "source": [
        "a = np.arange(1, 5)\n",
        "a"
      ],
      "metadata": {
        "colab": {
          "base_uri": "https://localhost:8080/"
        },
        "id": "f1u3arPAfUoi",
        "outputId": "2481d861-85a0-48cf-8cf8-44223a8d89ba"
      },
      "execution_count": null,
      "outputs": [
        {
          "output_type": "execute_result",
          "data": {
            "text/plain": [
              "array([1, 2, 3, 4])"
            ]
          },
          "metadata": {},
          "execution_count": 6
        }
      ]
    },
    {
      "cell_type": "code",
      "source": [
        "np.exp(a)"
      ],
      "metadata": {
        "colab": {
          "base_uri": "https://localhost:8080/"
        },
        "id": "IAxH9BppfbaW",
        "outputId": "28b3518a-30bc-49bd-996c-c4540010edea"
      },
      "execution_count": null,
      "outputs": [
        {
          "output_type": "execute_result",
          "data": {
            "text/plain": [
              "array([ 2.71828183,  7.3890561 , 20.08553692, 54.59815003])"
            ]
          },
          "metadata": {},
          "execution_count": 7
        }
      ]
    },
    {
      "cell_type": "code",
      "source": [
        "10 ** a"
      ],
      "metadata": {
        "colab": {
          "base_uri": "https://localhost:8080/"
        },
        "id": "BjKMrAbFfdvV",
        "outputId": "9a5d8789-01e6-41d6-cdfe-078d3e8ac5e9"
      },
      "execution_count": null,
      "outputs": [
        {
          "output_type": "execute_result",
          "data": {
            "text/plain": [
              "array([   10,   100,  1000, 10000])"
            ]
          },
          "metadata": {},
          "execution_count": 8
        }
      ]
    },
    {
      "cell_type": "code",
      "source": [
        "np.log(a)"
      ],
      "metadata": {
        "colab": {
          "base_uri": "https://localhost:8080/"
        },
        "id": "ZsysrFv5ffcF",
        "outputId": "1e6f947b-e9a6-4182-ffe9-c8c879f6895a"
      },
      "execution_count": null,
      "outputs": [
        {
          "output_type": "execute_result",
          "data": {
            "text/plain": [
              "array([0.        , 0.69314718, 1.09861229, 1.38629436])"
            ]
          },
          "metadata": {},
          "execution_count": 9
        }
      ]
    },
    {
      "cell_type": "markdown",
      "source": [
        "# 스칼라 / 벡터"
      ],
      "metadata": {
        "id": "fFVZTnsAfl6H"
      }
    },
    {
      "cell_type": "code",
      "source": [
        "x = np.arange(10)\n",
        "x, x.ndim, x.shape"
      ],
      "metadata": {
        "colab": {
          "base_uri": "https://localhost:8080/"
        },
        "id": "teGSy_hWfhXu",
        "outputId": "1cccea27-f3a1-4aad-c72e-0b53e6a10cc0"
      },
      "execution_count": null,
      "outputs": [
        {
          "output_type": "execute_result",
          "data": {
            "text/plain": [
              "(array([0, 1, 2, 3, 4, 5, 6, 7, 8, 9]), 1, (10,))"
            ]
          },
          "metadata": {},
          "execution_count": 11
        }
      ]
    },
    {
      "cell_type": "code",
      "source": [
        "x * 100  # 100 -> x라는 배열의 모양에 맞춰서 변형"
      ],
      "metadata": {
        "colab": {
          "base_uri": "https://localhost:8080/"
        },
        "id": "8aytRvRcfvX4",
        "outputId": "62ef3899-f1de-4692-aade-5de73b6d7bc7"
      },
      "execution_count": null,
      "outputs": [
        {
          "output_type": "execute_result",
          "data": {
            "text/plain": [
              "array([  0, 100, 200, 300, 400, 500, 600, 700, 800, 900])"
            ]
          },
          "metadata": {},
          "execution_count": 12
        }
      ]
    },
    {
      "cell_type": "code",
      "source": [
        "x = np.arange(12).reshape(-1, 4)\n",
        "x, x.ndim, x.shape"
      ],
      "metadata": {
        "colab": {
          "base_uri": "https://localhost:8080/"
        },
        "id": "pf9tBGHAf2Q8",
        "outputId": "c5951b3e-3d88-4f3f-b9a5-3b676a41eed6"
      },
      "execution_count": null,
      "outputs": [
        {
          "output_type": "execute_result",
          "data": {
            "text/plain": [
              "(array([[ 0,  1,  2,  3],\n",
              "        [ 4,  5,  6,  7],\n",
              "        [ 8,  9, 10, 11]]),\n",
              " 2,\n",
              " (3, 4))"
            ]
          },
          "metadata": {},
          "execution_count": 14
        }
      ]
    },
    {
      "cell_type": "code",
      "source": [
        "x * 100"
      ],
      "metadata": {
        "colab": {
          "base_uri": "https://localhost:8080/"
        },
        "id": "iBU6p-18gDjY",
        "outputId": "35349dd0-da50-4a9d-d212-98e6b7cc1f0e"
      },
      "execution_count": null,
      "outputs": [
        {
          "output_type": "execute_result",
          "data": {
            "text/plain": [
              "array([[   0,  100,  200,  300],\n",
              "       [ 400,  500,  600,  700],\n",
              "       [ 800,  900, 1000, 1100]])"
            ]
          },
          "metadata": {},
          "execution_count": 15
        }
      ]
    },
    {
      "cell_type": "markdown",
      "source": [
        "# 브로드캐스팅"
      ],
      "metadata": {
        "id": "-VZc9SClgJ3X"
      }
    },
    {
      "cell_type": "code",
      "source": [
        "x = np.arange(5)\n",
        "x"
      ],
      "metadata": {
        "colab": {
          "base_uri": "https://localhost:8080/"
        },
        "id": "5_hKjfL3gHMw",
        "outputId": "66b29bcc-1862-42e7-cf21-c1b125de8b63"
      },
      "execution_count": null,
      "outputs": [
        {
          "output_type": "execute_result",
          "data": {
            "text/plain": [
              "array([0, 1, 2, 3, 4])"
            ]
          },
          "metadata": {},
          "execution_count": 16
        }
      ]
    },
    {
      "cell_type": "code",
      "source": [
        "x + 1, x + 2, x - 3"
      ],
      "metadata": {
        "colab": {
          "base_uri": "https://localhost:8080/"
        },
        "id": "UO-QicCRgWGz",
        "outputId": "eb32e637-76b3-44e1-9489-64730137f5f2"
      },
      "execution_count": null,
      "outputs": [
        {
          "output_type": "execute_result",
          "data": {
            "text/plain": [
              "(array([1, 2, 3, 4, 5]), array([2, 3, 4, 5, 6]), array([-3, -2, -1,  0,  1]))"
            ]
          },
          "metadata": {},
          "execution_count": 18
        }
      ]
    },
    {
      "cell_type": "code",
      "source": [
        "x = np.arange(15).reshape(5, -1)\n",
        "x, x.shape"
      ],
      "metadata": {
        "colab": {
          "base_uri": "https://localhost:8080/"
        },
        "id": "MoXHwPLNgYqa",
        "outputId": "9b3c65b8-debe-46e7-db4a-0c87a7ab008b"
      },
      "execution_count": null,
      "outputs": [
        {
          "output_type": "execute_result",
          "data": {
            "text/plain": [
              "(array([[ 0,  1,  2],\n",
              "        [ 3,  4,  5],\n",
              "        [ 6,  7,  8],\n",
              "        [ 9, 10, 11],\n",
              "        [12, 13, 14]]),\n",
              " (5, 3))"
            ]
          },
          "metadata": {},
          "execution_count": 23
        }
      ]
    },
    {
      "cell_type": "code",
      "source": [
        "y = np.arange(5)\n",
        "y, y.shape"
      ],
      "metadata": {
        "colab": {
          "base_uri": "https://localhost:8080/"
        },
        "id": "S3HzMRFlgrST",
        "outputId": "ef797b84-9b30-4278-c34c-e1087a81fccd"
      },
      "execution_count": null,
      "outputs": [
        {
          "output_type": "execute_result",
          "data": {
            "text/plain": [
              "(array([0, 1, 2, 3, 4]), (5,))"
            ]
          },
          "metadata": {},
          "execution_count": 24
        }
      ]
    },
    {
      "cell_type": "code",
      "source": [
        "# x + y -> 차원이 달라서 불가\n",
        "y2 = y[:, np.newaxis]\n",
        "y2, y2.shape  # 차원을 맞춰주면"
      ],
      "metadata": {
        "colab": {
          "base_uri": "https://localhost:8080/"
        },
        "id": "DQRwkeWvgtqH",
        "outputId": "15ae52f8-9c6f-44d6-b01e-03a2f430a833"
      },
      "execution_count": null,
      "outputs": [
        {
          "output_type": "execute_result",
          "data": {
            "text/plain": [
              "(array([[0],\n",
              "        [1],\n",
              "        [2],\n",
              "        [3],\n",
              "        [4]]),\n",
              " (5, 1))"
            ]
          },
          "metadata": {},
          "execution_count": 22
        }
      ]
    },
    {
      "cell_type": "code",
      "source": [
        "x + y2 # y2 -> 짧았음 -> 1열 -> 3열 (반복확장)"
      ],
      "metadata": {
        "colab": {
          "base_uri": "https://localhost:8080/"
        },
        "id": "sjPNhomwg_IM",
        "outputId": "a364bb80-8bdd-4b16-b039-b50061356cea"
      },
      "execution_count": null,
      "outputs": [
        {
          "output_type": "execute_result",
          "data": {
            "text/plain": [
              "array([[ 0,  1,  2],\n",
              "       [ 4,  5,  6],\n",
              "       [ 8,  9, 10],\n",
              "       [12, 13, 14],\n",
              "       [16, 17, 18]])"
            ]
          },
          "metadata": {},
          "execution_count": 25
        }
      ]
    },
    {
      "cell_type": "markdown",
      "source": [
        "# 차원 축소 연산"
      ],
      "metadata": {
        "id": "_6njdxmEhKTu"
      }
    },
    {
      "cell_type": "code",
      "source": [
        "x =  np.random.randint(0, 100, 6)\n",
        "x"
      ],
      "metadata": {
        "colab": {
          "base_uri": "https://localhost:8080/"
        },
        "id": "4rSUjQsJhTZA",
        "outputId": "8d721e8a-1b66-442d-9dd8-b2805680e817"
      },
      "execution_count": null,
      "outputs": [
        {
          "output_type": "execute_result",
          "data": {
            "text/plain": [
              "array([14,  7,  9, 64, 72, 99])"
            ]
          },
          "metadata": {},
          "execution_count": 38
        }
      ]
    },
    {
      "cell_type": "code",
      "source": [
        "print(np.sum(x), x.sum())  # 합계\n",
        "print(np.max(x), x.max())  # 최대\n",
        "print(np.min(x), x.min())  # 최소\n",
        "print(np.argmax(x), x.argmax())  # 최대 -> 인덱스\n",
        "print(np.argmin(x), x.argmin())  # 최소 -> 인덱스\n",
        "print(np.mean(x), x.mean(), np.sum(x) / len(x))  # 평균\n",
        "print(np.median(x))  # 중간값 -> 짝수개 -> 평균\n",
        "print(np.all(x > 50), (x > 50).all())  # 모두 True인지\n",
        "print(np.any(x > 50), (x > 50).any())  # 1개 이상 True인지"
      ],
      "metadata": {
        "colab": {
          "base_uri": "https://localhost:8080/"
        },
        "id": "AtH1yFNQhWKZ",
        "outputId": "a33ae0f9-2310-4657-ad44-357ee365608b"
      },
      "execution_count": null,
      "outputs": [
        {
          "output_type": "stream",
          "name": "stdout",
          "text": [
            "265 265\n",
            "99 99\n",
            "7 7\n",
            "5 5\n",
            "1 1\n",
            "44.166666666666664 44.166666666666664 44.166666666666664\n",
            "39.0\n",
            "False False\n",
            "True True\n"
          ]
        }
      ]
    },
    {
      "cell_type": "code",
      "source": [
        "x =  np.random.randint(0, 100, 6).reshape(2, -1)\n",
        "x"
      ],
      "metadata": {
        "colab": {
          "base_uri": "https://localhost:8080/"
        },
        "id": "Ery56yZNhusj",
        "outputId": "f0e8b570-9436-4355-a229-a1ba6713a2e1"
      },
      "execution_count": null,
      "outputs": [
        {
          "output_type": "execute_result",
          "data": {
            "text/plain": [
              "array([[12, 79, 53],\n",
              "       [92, 50, 78]])"
            ]
          },
          "metadata": {},
          "execution_count": 42
        }
      ]
    },
    {
      "cell_type": "code",
      "source": [
        "print(x.sum(), x.sum(axis=None))\n",
        "print(x.sum(axis=0))  # 같은 행을 합쳐주겠다 -> 열 모양\n",
        "print(x.sum(axis=1))  # 같은 열을 합쳐주겠다 -> 행 모양"
      ],
      "metadata": {
        "colab": {
          "base_uri": "https://localhost:8080/"
        },
        "id": "FkafSk7ei14Y",
        "outputId": "44830cd7-33b5-4074-9f19-eb2e3cf81ffd"
      },
      "execution_count": null,
      "outputs": [
        {
          "output_type": "stream",
          "name": "stdout",
          "text": [
            "364 364\n",
            "[104 129 131]\n",
            "[144 220]\n"
          ]
        }
      ]
    },
    {
      "cell_type": "markdown",
      "source": [
        "# 정렬"
      ],
      "metadata": {
        "id": "aHA9EciSkXZS"
      }
    },
    {
      "cell_type": "code",
      "source": [
        "x"
      ],
      "metadata": {
        "colab": {
          "base_uri": "https://localhost:8080/"
        },
        "id": "mzzBgmcGjXAh",
        "outputId": "6c38e006-90e5-421f-b317-87874325c7ff"
      },
      "execution_count": null,
      "outputs": [
        {
          "output_type": "execute_result",
          "data": {
            "text/plain": [
              "array([[12, 79, 53],\n",
              "       [92, 50, 78]])"
            ]
          },
          "metadata": {},
          "execution_count": 49
        }
      ]
    },
    {
      "cell_type": "code",
      "source": [
        "np.sort(x), np.sort(x, axis=-1), np.sort(x, axis=1) # ndim-1 차원"
      ],
      "metadata": {
        "colab": {
          "base_uri": "https://localhost:8080/"
        },
        "id": "oTHCDEu8jXbx",
        "outputId": "96f9ac69-ace0-42ec-86d3-7be60b78c781"
      },
      "execution_count": null,
      "outputs": [
        {
          "output_type": "execute_result",
          "data": {
            "text/plain": [
              "(array([[12, 53, 79],\n",
              "        [50, 78, 92]]),\n",
              " array([[12, 53, 79],\n",
              "        [50, 78, 92]]),\n",
              " array([[12, 53, 79],\n",
              "        [50, 78, 92]]))"
            ]
          },
          "metadata": {},
          "execution_count": 52
        }
      ]
    },
    {
      "cell_type": "code",
      "source": [
        "np.sort(x, axis=0), np.sort(x, axis=0)[:,::-1]"
      ],
      "metadata": {
        "colab": {
          "base_uri": "https://localhost:8080/"
        },
        "id": "-lR7r-NjjoMK",
        "outputId": "d3d69eba-193f-486e-9afb-bbdc5b885b0a"
      },
      "execution_count": null,
      "outputs": [
        {
          "output_type": "execute_result",
          "data": {
            "text/plain": [
              "(array([[12, 50, 53],\n",
              "        [92, 79, 78]]),\n",
              " array([[53, 50, 12],\n",
              "        [78, 79, 92]]))"
            ]
          },
          "metadata": {},
          "execution_count": 56
        }
      ]
    },
    {
      "cell_type": "code",
      "source": [
        "np.sort(x, axis=1), np.sort(x, axis=1)[::-1,:]"
      ],
      "metadata": {
        "colab": {
          "base_uri": "https://localhost:8080/"
        },
        "id": "LP2urgvlj2Ik",
        "outputId": "27a3b3be-5088-4c2c-dbd6-42fb2e6f4cbc"
      },
      "execution_count": null,
      "outputs": [
        {
          "output_type": "execute_result",
          "data": {
            "text/plain": [
              "(array([[12, 53, 79],\n",
              "        [50, 78, 92]]),\n",
              " array([[50, 78, 92],\n",
              "        [12, 53, 79]]))"
            ]
          },
          "metadata": {},
          "execution_count": 59
        }
      ]
    },
    {
      "cell_type": "code",
      "source": [
        "a.sort()\n",
        "a"
      ],
      "metadata": {
        "colab": {
          "base_uri": "https://localhost:8080/"
        },
        "id": "X_xLMJa2kCby",
        "outputId": "ca0448d4-6e06-4407-e98d-2bd2e7358bc0"
      },
      "execution_count": null,
      "outputs": [
        {
          "output_type": "execute_result",
          "data": {
            "text/plain": [
              "array([1, 2, 3, 4])"
            ]
          },
          "metadata": {},
          "execution_count": 60
        }
      ]
    },
    {
      "cell_type": "code",
      "source": [
        "np.argsort(a)"
      ],
      "metadata": {
        "colab": {
          "base_uri": "https://localhost:8080/"
        },
        "id": "6TpBM12hkIB8",
        "outputId": "7f379529-101e-408e-b207-4f10bb3d649b"
      },
      "execution_count": null,
      "outputs": [
        {
          "output_type": "execute_result",
          "data": {
            "text/plain": [
              "array([0, 1, 2, 3])"
            ]
          },
          "metadata": {},
          "execution_count": 61
        }
      ]
    },
    {
      "cell_type": "markdown",
      "source": [
        "# 기술 통계"
      ],
      "metadata": {
        "id": "GyZv-a_XkWOk"
      }
    },
    {
      "cell_type": "code",
      "source": [
        "x = np.random.randint(-100, 100, 30)\n",
        "x"
      ],
      "metadata": {
        "colab": {
          "base_uri": "https://localhost:8080/"
        },
        "id": "F86wuqIpka4h",
        "outputId": "4d5d3541-69eb-45a2-8498-2c1d7a78c224"
      },
      "execution_count": null,
      "outputs": [
        {
          "output_type": "execute_result",
          "data": {
            "text/plain": [
              "array([-15,  42,  21,  97, -44, -14,  99,  31,  48, -38, -48, -28, -27,\n",
              "       -68,  21, -65,  91,  39, -29,  34,  57,  12,  -9,  72, -10, -88,\n",
              "        55, -63,  99,  58])"
            ]
          },
          "metadata": {},
          "execution_count": 62
        }
      ]
    },
    {
      "cell_type": "code",
      "source": [
        "print(len(x))\n",
        "print(np.mean(x), x.mean())\n",
        "print(np.var(x), x.var())\n",
        "print(np.std(x), x.std())\n",
        "print(np.max(x), x.max())\n",
        "print(np.min(x), x.min())\n",
        "print(np.median(x))\n",
        "print(np.percentile(x, 0))\n",
        "print(np.percentile(x, 25), np.percentile(x, 1 * 100 / 4))\n",
        "print(np.percentile(x, 50), np.percentile(x, 2 * 100 / 4))\n",
        "print(np.percentile(x, 75), np.percentile(x, 3 * 100 / 4))\n",
        "print(np.percentile(x, 100), np.percentile(x, 4 * 100 / 4))"
      ],
      "metadata": {
        "colab": {
          "base_uri": "https://localhost:8080/"
        },
        "id": "bZqdkrFSksAs",
        "outputId": "0651f8f0-442f-4aff-f2e5-9cee8a52c65b"
      },
      "execution_count": null,
      "outputs": [
        {
          "output_type": "stream",
          "name": "stdout",
          "text": [
            "30\n",
            "11.0 11.0\n",
            "2880.6 2880.6\n",
            "53.67122133881434 53.67122133881434\n",
            "99 99\n",
            "-88 -88\n",
            "16.5\n",
            "-88.0\n",
            "-28.75 -28.75\n",
            "16.5 16.5\n",
            "53.25 53.25\n",
            "99.0 99.0\n"
          ]
        }
      ]
    },
    {
      "cell_type": "markdown",
      "source": [
        "# 난수 발생"
      ],
      "metadata": {
        "id": "mnL0Yihll3C1"
      }
    },
    {
      "cell_type": "code",
      "source": [
        "np.random.seed(2023)"
      ],
      "metadata": {
        "id": "lC6VQW_UlA8b"
      },
      "execution_count": null,
      "outputs": []
    },
    {
      "cell_type": "code",
      "source": [
        "np.random.rand(5)"
      ],
      "metadata": {
        "colab": {
          "base_uri": "https://localhost:8080/"
        },
        "id": "JRzoCm57l7_N",
        "outputId": "7612c7b0-37aa-48b3-e402-b64202c7296c"
      },
      "execution_count": null,
      "outputs": [
        {
          "output_type": "execute_result",
          "data": {
            "text/plain": [
              "array([0.3219883 , 0.89042245, 0.58805226, 0.12659609, 0.14134122])"
            ]
          },
          "metadata": {},
          "execution_count": 73
        }
      ]
    },
    {
      "cell_type": "code",
      "source": [
        "# np.random.rand((2, 5)) shape 직접 지정 안됨"
      ],
      "metadata": {
        "colab": {
          "base_uri": "https://localhost:8080/",
          "height": 288
        },
        "id": "4s6nfjyvmCVC",
        "outputId": "0152613a-b72a-4458-c143-ed5d6c6e1b57"
      },
      "execution_count": null,
      "outputs": [
        {
          "output_type": "error",
          "ename": "TypeError",
          "evalue": "ignored",
          "traceback": [
            "\u001b[0;31m---------------------------------------------------------------------------\u001b[0m",
            "\u001b[0;31mTypeError\u001b[0m                                 Traceback (most recent call last)",
            "\u001b[0;32m<ipython-input-74-45d98fc253df>\u001b[0m in \u001b[0;36m<cell line: 1>\u001b[0;34m()\u001b[0m\n\u001b[0;32m----> 1\u001b[0;31m \u001b[0mnp\u001b[0m\u001b[0;34m.\u001b[0m\u001b[0mrandom\u001b[0m\u001b[0;34m.\u001b[0m\u001b[0mrand\u001b[0m\u001b[0;34m(\u001b[0m\u001b[0;34m(\u001b[0m\u001b[0;36m2\u001b[0m\u001b[0;34m,\u001b[0m \u001b[0;36m5\u001b[0m\u001b[0;34m)\u001b[0m\u001b[0;34m)\u001b[0m\u001b[0;34m\u001b[0m\u001b[0;34m\u001b[0m\u001b[0m\n\u001b[0m",
            "\u001b[0;32mmtrand.pyx\u001b[0m in \u001b[0;36mnumpy.random.mtrand.RandomState.rand\u001b[0;34m()\u001b[0m\n",
            "\u001b[0;32mmtrand.pyx\u001b[0m in \u001b[0;36mnumpy.random.mtrand.RandomState.random_sample\u001b[0;34m()\u001b[0m\n",
            "\u001b[0;32m_common.pyx\u001b[0m in \u001b[0;36mnumpy.random._common.double_fill\u001b[0;34m()\u001b[0m\n",
            "\u001b[0;31mTypeError\u001b[0m: 'tuple' object cannot be interpreted as an integer"
          ]
        }
      ]
    },
    {
      "cell_type": "code",
      "source": [
        "x = np.arange(10)\n",
        "x"
      ],
      "metadata": {
        "colab": {
          "base_uri": "https://localhost:8080/"
        },
        "id": "0qrJ24JymLaZ",
        "outputId": "62863a09-1b7f-4065-ba5f-b13e8592679d"
      },
      "execution_count": null,
      "outputs": [
        {
          "output_type": "execute_result",
          "data": {
            "text/plain": [
              "array([0, 1, 2, 3, 4, 5, 6, 7, 8, 9])"
            ]
          },
          "metadata": {},
          "execution_count": 75
        }
      ]
    },
    {
      "cell_type": "code",
      "source": [
        "np.random.shuffle(x)\n",
        "x"
      ],
      "metadata": {
        "colab": {
          "base_uri": "https://localhost:8080/"
        },
        "id": "DsGBzH_DmNkQ",
        "outputId": "355091ab-72b0-4792-fef8-7854b82715e0"
      },
      "execution_count": null,
      "outputs": [
        {
          "output_type": "execute_result",
          "data": {
            "text/plain": [
              "array([7, 4, 3, 2, 8, 9, 1, 6, 0, 5])"
            ]
          },
          "metadata": {},
          "execution_count": 76
        }
      ]
    },
    {
      "cell_type": "code",
      "source": [
        "print(np.random.choice(5, 5, replace=False))\n",
        "print(np.random.choice(5, 3, replace=False))"
      ],
      "metadata": {
        "colab": {
          "base_uri": "https://localhost:8080/"
        },
        "id": "04lWfBInmVQp",
        "outputId": "4005ef08-8596-4588-aee6-4726ba297b09"
      },
      "execution_count": null,
      "outputs": [
        {
          "output_type": "stream",
          "name": "stdout",
          "text": [
            "[3 4 0 2 1]\n",
            "[3 4 2]\n"
          ]
        }
      ]
    },
    {
      "cell_type": "code",
      "source": [
        "print(np.random.choice(5, 3, replace=True))\n",
        "print(np.random.choice(5, 10))"
      ],
      "metadata": {
        "colab": {
          "base_uri": "https://localhost:8080/"
        },
        "id": "DDYKUgPxmeR7",
        "outputId": "3999c93f-4b90-47bf-9379-2a0bb843e89b"
      },
      "execution_count": null,
      "outputs": [
        {
          "output_type": "stream",
          "name": "stdout",
          "text": [
            "[0 1 0]\n",
            "[1 2 3 1 0 1 4 0 0 4]\n"
          ]
        }
      ]
    },
    {
      "cell_type": "code",
      "source": [
        "np.random.rand(10)"
      ],
      "metadata": {
        "colab": {
          "base_uri": "https://localhost:8080/"
        },
        "id": "IEVw2cXGmjLc",
        "outputId": "26896401-41f1-438c-dffc-bd3a654b6477"
      },
      "execution_count": null,
      "outputs": [
        {
          "output_type": "execute_result",
          "data": {
            "text/plain": [
              "array([0.26546361, 0.20533187, 0.40615836, 0.62311131, 0.80221535,\n",
              "       0.09702613, 0.81625998, 0.02808046, 0.01545164, 0.56690572])"
            ]
          },
          "metadata": {},
          "execution_count": 79
        }
      ]
    },
    {
      "cell_type": "code",
      "source": [
        "np.random.randn(10) # rand, randn -> shape (배열의 모양) (2, 3)"
      ],
      "metadata": {
        "colab": {
          "base_uri": "https://localhost:8080/"
        },
        "id": "AGyb2EYYmxUy",
        "outputId": "9e915dce-94ec-401a-b4cb-5e6e9307bde8"
      },
      "execution_count": null,
      "outputs": [
        {
          "output_type": "execute_result",
          "data": {
            "text/plain": [
              "array([ 0.78604475,  0.17643234, -0.16326137, -0.09505149, -1.06584426,\n",
              "       -0.91283631, -0.66864652,  1.55496137, -1.47845086, -0.11497552])"
            ]
          },
          "metadata": {},
          "execution_count": 80
        }
      ]
    },
    {
      "cell_type": "code",
      "source": [
        "# 기댓값 3, 표준편차 0.5\n",
        "np.random.randn(10) * 0.5 + 3"
      ],
      "metadata": {
        "colab": {
          "base_uri": "https://localhost:8080/"
        },
        "id": "50F2L7KIm8_s",
        "outputId": "2df58f95-25ee-4cf9-fb54-3ddeae5f30b9"
      },
      "execution_count": null,
      "outputs": [
        {
          "output_type": "execute_result",
          "data": {
            "text/plain": [
              "array([3.88938001, 3.59074486, 3.38436627, 2.42663623, 3.70916688,\n",
              "       2.55121923, 3.50435384, 2.61183864, 3.42062693, 3.5254669 ])"
            ]
          },
          "metadata": {},
          "execution_count": 81
        }
      ]
    },
    {
      "cell_type": "code",
      "source": [
        "np.random.randint(1, 10, 100)"
      ],
      "metadata": {
        "colab": {
          "base_uri": "https://localhost:8080/"
        },
        "id": "QhM98uDBnBzz",
        "outputId": "9bca8c38-10c4-4b6d-d2b9-68d8eafb237b"
      },
      "execution_count": null,
      "outputs": [
        {
          "output_type": "execute_result",
          "data": {
            "text/plain": [
              "array([6, 3, 6, 2, 3, 9, 7, 8, 7, 5, 9, 5, 4, 5, 8, 9, 8, 5, 5, 9, 7, 1,\n",
              "       9, 8, 2, 9, 2, 9, 1, 7, 7, 6, 6, 5, 4, 5, 7, 6, 5, 4, 2, 3, 4, 6,\n",
              "       8, 6, 3, 5, 1, 7, 4, 8, 6, 7, 4, 4, 1, 4, 5, 5, 6, 8, 4, 9, 2, 4,\n",
              "       9, 2, 4, 4, 4, 2, 8, 8, 2, 5, 9, 3, 5, 2, 4, 8, 8, 3, 3, 9, 7, 8,\n",
              "       7, 5, 6, 9, 4, 6, 8, 1, 1, 7, 6, 1])"
            ]
          },
          "metadata": {},
          "execution_count": 83
        }
      ]
    },
    {
      "cell_type": "code",
      "source": [
        "r = np.random.randint(1, 10, 100)\n",
        "r"
      ],
      "metadata": {
        "colab": {
          "base_uri": "https://localhost:8080/"
        },
        "id": "g2IIPlwHnNhK",
        "outputId": "be75134a-c337-402a-fc03-10324b918205"
      },
      "execution_count": null,
      "outputs": [
        {
          "output_type": "execute_result",
          "data": {
            "text/plain": [
              "array([9, 9, 1, 9, 8, 7, 2, 9, 9, 5, 3, 9, 4, 9, 2, 3, 9, 1, 4, 6, 3, 4,\n",
              "       8, 2, 9, 8, 8, 4, 9, 9, 3, 1, 5, 2, 7, 3, 9, 7, 5, 8, 3, 8, 6, 9,\n",
              "       2, 2, 7, 3, 9, 7, 8, 6, 2, 6, 6, 8, 2, 6, 7, 6, 5, 9, 4, 6, 8, 2,\n",
              "       9, 9, 4, 5, 1, 2, 5, 7, 6, 8, 9, 2, 8, 4, 3, 3, 9, 3, 5, 3, 3, 3,\n",
              "       9, 1, 4, 8, 1, 7, 8, 7, 8, 9, 2, 4])"
            ]
          },
          "metadata": {},
          "execution_count": 84
        }
      ]
    },
    {
      "cell_type": "code",
      "source": [
        "np.unique(r)"
      ],
      "metadata": {
        "colab": {
          "base_uri": "https://localhost:8080/"
        },
        "id": "9R0LutElnSqr",
        "outputId": "3ee7dde8-9ea5-423f-e5d6-6756f1cfbddb"
      },
      "execution_count": null,
      "outputs": [
        {
          "output_type": "execute_result",
          "data": {
            "text/plain": [
              "array([1, 2, 3, 4, 5, 6, 7, 8, 9])"
            ]
          },
          "metadata": {},
          "execution_count": 85
        }
      ]
    },
    {
      "cell_type": "code",
      "source": [
        "np.unique(r, return_counts=True) # 1: 고유값 2: 고유값마다 몇 개가 있는지"
      ],
      "metadata": {
        "colab": {
          "base_uri": "https://localhost:8080/"
        },
        "id": "q9F_oH5DnVKi",
        "outputId": "89a73b9b-6eb3-4751-8adf-22a02edd4098"
      },
      "execution_count": null,
      "outputs": [
        {
          "output_type": "execute_result",
          "data": {
            "text/plain": [
              "(array([1, 2, 3, 4, 5, 6, 7, 8, 9]),\n",
              " array([ 6, 12, 13,  9,  7,  9,  9, 14, 21]))"
            ]
          },
          "metadata": {},
          "execution_count": 87
        }
      ]
    },
    {
      "cell_type": "code",
      "source": [
        "index, value = np.unique(r, return_counts=True)\n",
        "index, value"
      ],
      "metadata": {
        "colab": {
          "base_uri": "https://localhost:8080/"
        },
        "id": "9pyV35d4ncX-",
        "outputId": "00fc2c34-1f07-4606-93b4-343259da6963"
      },
      "execution_count": null,
      "outputs": [
        {
          "output_type": "execute_result",
          "data": {
            "text/plain": [
              "(array([1, 2, 3, 4, 5, 6, 7, 8, 9]),\n",
              " array([ 6, 12, 13,  9,  7,  9,  9, 14, 21]))"
            ]
          },
          "metadata": {},
          "execution_count": 88
        }
      ]
    },
    {
      "cell_type": "code",
      "source": [
        "zip(index, value), list(zip(index, value))"
      ],
      "metadata": {
        "colab": {
          "base_uri": "https://localhost:8080/"
        },
        "id": "MB36Sf0Fnm0c",
        "outputId": "ad1b8230-484d-4897-e6a9-0b4b94dc27a0"
      },
      "execution_count": null,
      "outputs": [
        {
          "output_type": "execute_result",
          "data": {
            "text/plain": [
              "(<zip at 0x7fc1f9b61d80>,\n",
              " [(1, 6), (2, 12), (3, 13), (4, 9), (5, 7), (6, 9), (7, 9), (8, 14), (9, 21)])"
            ]
          },
          "metadata": {},
          "execution_count": 92
        }
      ]
    },
    {
      "cell_type": "code",
      "source": [
        "dict(zip(index, value))"
      ],
      "metadata": {
        "colab": {
          "base_uri": "https://localhost:8080/"
        },
        "id": "xQ1DfN2kno4r",
        "outputId": "21b887a5-bd49-4fbe-dc78-7382decfa864"
      },
      "execution_count": null,
      "outputs": [
        {
          "output_type": "execute_result",
          "data": {
            "text/plain": [
              "{1: 6, 2: 12, 3: 13, 4: 9, 5: 7, 6: 9, 7: 9, 8: 14, 9: 21}"
            ]
          },
          "metadata": {},
          "execution_count": 91
        }
      ]
    }
  ]
}