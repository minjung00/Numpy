{
  "nbformat": 4,
  "nbformat_minor": 0,
  "metadata": {
    "colab": {
      "provenance": [],
      "include_colab_link": true
    },
    "kernelspec": {
      "name": "python3",
      "display_name": "Python 3"
    },
    "language_info": {
      "name": "python"
    }
  },
  "cells": [
    {
      "cell_type": "markdown",
      "metadata": {
        "id": "view-in-github",
        "colab_type": "text"
      },
      "source": [
        "<a href=\"https://colab.research.google.com/github/minjung00/Numpy/blob/main/ch05_04_%EA%B8%B0%EC%88%A0%ED%86%B5%EA%B3%84%2B%EB%82%9C%EC%88%98%EB%B0%9C%EC%83%9D%EA%B3%BC%2B%EC%B9%B4%EC%9A%B4%ED%8C%85.ipynb\" target=\"_parent\"><img src=\"https://colab.research.google.com/assets/colab-badge.svg\" alt=\"Open In Colab\"/></a>"
      ]
    },
    {
      "cell_type": "markdown",
      "source": [
        "# 기술 통계"
      ],
      "metadata": {
        "id": "tqxkhX-JFimj"
      }
    },
    {
      "cell_type": "markdown",
      "source": [
        "## 기술 통계(descriptive statistics)\n",
        "> 데이터 집합에 대해 통계를 계산\n",
        "* 데이터의 개수(count)\n",
        "* 평균(mean, average)\n",
        "* 분산(variance)\n",
        "* 표준 편차(standard deviation)\n",
        "* 최댓값(maximum)\n",
        "* 최솟값(minimum)\n",
        "* 중앙값(median)\n",
        "* 사분위수(quartile)"
      ],
      "metadata": {
        "id": "gchQwkseFsUX"
      }
    },
    {
      "cell_type": "code",
      "source": [
        "import numpy as np"
      ],
      "metadata": {
        "id": "jttHEMK4F9XX"
      },
      "execution_count": 1,
      "outputs": []
    },
    {
      "cell_type": "code",
      "source": [
        "x = np.array([\n",
        "    18, 5, 10, 23, 19, -8, 10, 0, 0, 5, 2, 15, 8,\n",
        "    2, 5, 4, 15, -1, 4, -7, -24, 7, 9, -6, 23, -13\n",
        "])\n",
        "x"
      ],
      "metadata": {
        "colab": {
          "base_uri": "https://localhost:8080/"
        },
        "id": "_qdmJ03INFEw",
        "outputId": "9b12ade4-6a75-4772-b50e-ac3747becc9c"
      },
      "execution_count": 2,
      "outputs": [
        {
          "output_type": "execute_result",
          "data": {
            "text/plain": [
              "array([ 18,   5,  10,  23,  19,  -8,  10,   0,   0,   5,   2,  15,   8,\n",
              "         2,   5,   4,  15,  -1,   4,  -7, -24,   7,   9,  -6,  23, -13])"
            ]
          },
          "metadata": {},
          "execution_count": 2
        }
      ]
    },
    {
      "cell_type": "markdown",
      "source": [
        "## 데이터의 개수"
      ],
      "metadata": {
        "id": "5bzioyHoF557"
      }
    },
    {
      "cell_type": "code",
      "source": [
        "len(x)"
      ],
      "metadata": {
        "colab": {
          "base_uri": "https://localhost:8080/"
        },
        "id": "wlTrzCbKFl4j",
        "outputId": "2a3a9df2-2032-49c5-ccc7-cfc85a4710d8"
      },
      "execution_count": 3,
      "outputs": [
        {
          "output_type": "execute_result",
          "data": {
            "text/plain": [
              "26"
            ]
          },
          "metadata": {},
          "execution_count": 3
        }
      ]
    },
    {
      "cell_type": "markdown",
      "source": [
        "## 표본 평균\n",
        "* 우리가 일반적으로 아는 평균\n",
        "* 통계용어로는 표본 평균(sample average, sample mean)\n",
        "<br>\n",
        "$\n",
        "\\bar{x} = \\frac{1}{N}\\displaystyle\\sum_{i=1}^{N}{x_i}\n",
        "$\n",
        "(𝑁은 데이터의 개수)"
      ],
      "metadata": {
        "id": "3xe5u1nkGBgM"
      }
    },
    {
      "cell_type": "code",
      "source": [
        "np.mean(x), x.mean()"
      ],
      "metadata": {
        "colab": {
          "base_uri": "https://localhost:8080/"
        },
        "id": "SiQn6qJlF_Y_",
        "outputId": "a6d4510d-97e9-4c2a-b85b-996c4a574459"
      },
      "execution_count": 4,
      "outputs": [
        {
          "output_type": "execute_result",
          "data": {
            "text/plain": [
              "(4.8076923076923075, 4.8076923076923075)"
            ]
          },
          "metadata": {},
          "execution_count": 4
        }
      ]
    },
    {
      "cell_type": "markdown",
      "source": [
        "## 표본 분산\n",
        "* 표본 분산(sample variance) : 데이터와 표본 평균간의 거리의 제곱의 평균\n",
        "* 표본 분산이 작으면 데이터가 모여있는 것이고 크면 흩어져 있는 것\n",
        "<br>\n",
        "$\n",
        "s^2 = \\frac{1}{N}\\displaystyle\\sum_{i=1}^{N}{(x_i-\\bar{x})^2}\n",
        "$"
      ],
      "metadata": {
        "id": "sMmBl-uLHWwF"
      }
    },
    {
      "cell_type": "code",
      "source": [
        "np.var(x), x.var()"
      ],
      "metadata": {
        "colab": {
          "base_uri": "https://localhost:8080/"
        },
        "id": "ukbJg498HWZG",
        "outputId": "d1d5865a-a0bf-4c81-da03-780932fa5b73"
      },
      "execution_count": 5,
      "outputs": [
        {
          "output_type": "execute_result",
          "data": {
            "text/plain": [
              "(115.23224852071006, 115.23224852071006)"
            ]
          },
          "metadata": {},
          "execution_count": 5
        }
      ]
    },
    {
      "cell_type": "markdown",
      "source": [
        "## 표본 표준편차\n",
        "* 표본 표준편차(sample standard variance) : 표본 분산의 양의 제곱근 값\n",
        "<br>\n",
        "$\n",
        "s = \\sqrt{s^2}\n",
        "$"
      ],
      "metadata": {
        "id": "ox3H6KB8H4Hd"
      }
    },
    {
      "cell_type": "code",
      "source": [
        "np.std(x), x.std()"
      ],
      "metadata": {
        "colab": {
          "base_uri": "https://localhost:8080/"
        },
        "id": "ESjtI9K9HP8g",
        "outputId": "d2592abd-4b14-49eb-e48a-7d0bb8b34d8b"
      },
      "execution_count": 6,
      "outputs": [
        {
          "output_type": "execute_result",
          "data": {
            "text/plain": [
              "(10.734628476137871, 10.734628476137871)"
            ]
          },
          "metadata": {},
          "execution_count": 6
        }
      ]
    },
    {
      "cell_type": "markdown",
      "source": [
        "## 최댓값과 최솟값"
      ],
      "metadata": {
        "id": "68MH4LSRINEC"
      }
    },
    {
      "cell_type": "code",
      "source": [
        "# 최댓값 (maximum) / 최솟값 (minimum)\n",
        "np.max(x), x.max(), np.min(x), x.min()"
      ],
      "metadata": {
        "colab": {
          "base_uri": "https://localhost:8080/"
        },
        "id": "E-KkdiALIPvE",
        "outputId": "7312fd6e-7676-4133-8e0e-d323ba62ef44"
      },
      "execution_count": 8,
      "outputs": [
        {
          "output_type": "execute_result",
          "data": {
            "text/plain": [
              "(23, 23, -24, -24)"
            ]
          },
          "metadata": {},
          "execution_count": 8
        }
      ]
    },
    {
      "cell_type": "markdown",
      "source": [
        "## 중앙값\n",
        "* 중앙값(median) : 데이터를 크기대로 정렬하였을 때 가장 가운데에 있는 수\n",
        "* 만약 데이터의 수가 짝수이면 가장 가운데에 있는 두 수의 평균을 사용\n"
      ],
      "metadata": {
        "id": "vGgHFClPIWQV"
      }
    },
    {
      "cell_type": "code",
      "source": [
        "np.median(x) # 내장메소드 X"
      ],
      "metadata": {
        "colab": {
          "base_uri": "https://localhost:8080/"
        },
        "id": "LS2P0zPnIUvN",
        "outputId": "ae11bb6e-65eb-4625-8e23-e8a4ee3c8445"
      },
      "execution_count": 9,
      "outputs": [
        {
          "output_type": "execute_result",
          "data": {
            "text/plain": [
              "5.0"
            ]
          },
          "metadata": {},
          "execution_count": 9
        }
      ]
    },
    {
      "cell_type": "markdown",
      "source": [
        "## 사분위수\n",
        "* 사분위수(quartile) : 데이터를 가장 작은 수부터 가장 큰 수까지 크기가 커지는 순서대로 정렬하였을 때 1/4, 2/4, 3/4 위치에 있는 수\n",
        "* 각각 1사분위수, 2사분위수, 3사분위수라고 함\n",
        "* 1/4의 위치란 전체 데이터의 수가 만약 100개이면 25번째 순서, 즉 하위 25%\n",
        "* 따라서 2사분위수는 중앙값과 같음\n",
        "* 때로는 위치를 1/100 단위로 나눈 백분위수(percentile)을 사용하기도 함\n",
        "* 1사분위수는 25% 백분위수와 같음\n"
      ],
      "metadata": {
        "id": "b1pLnirSIfsI"
      }
    },
    {
      "cell_type": "code",
      "source": [
        "np.percentile(x, 0) # 최솟값, min"
      ],
      "metadata": {
        "colab": {
          "base_uri": "https://localhost:8080/"
        },
        "id": "EHTZ62T8Ici8",
        "outputId": "d9470833-e413-49f9-e0b6-5e711b797f06"
      },
      "execution_count": 10,
      "outputs": [
        {
          "output_type": "execute_result",
          "data": {
            "text/plain": [
              "-24.0"
            ]
          },
          "metadata": {},
          "execution_count": 10
        }
      ]
    },
    {
      "cell_type": "code",
      "source": [
        "np.percentile(x, 25) # 25% 백분위수, 1사분위수"
      ],
      "metadata": {
        "colab": {
          "base_uri": "https://localhost:8080/"
        },
        "id": "h8tVnPH6Ixcv",
        "outputId": "68b286cc-ed2d-43a9-c486-86ded625b06a"
      },
      "execution_count": 11,
      "outputs": [
        {
          "output_type": "execute_result",
          "data": {
            "text/plain": [
              "0.0"
            ]
          },
          "metadata": {},
          "execution_count": 11
        }
      ]
    },
    {
      "cell_type": "code",
      "source": [
        "np.percentile(x, 50)  # 50% 백분위수, 2사분위수, 중앙값"
      ],
      "metadata": {
        "colab": {
          "base_uri": "https://localhost:8080/"
        },
        "id": "PuT1HTElIza1",
        "outputId": "0a89f9f6-ed1a-41c5-f4ae-b9cc2329ec24"
      },
      "execution_count": 15,
      "outputs": [
        {
          "output_type": "execute_result",
          "data": {
            "text/plain": [
              "5.0"
            ]
          },
          "metadata": {},
          "execution_count": 15
        }
      ]
    },
    {
      "cell_type": "code",
      "source": [
        "np.percentile(x, 75)  # 75% 백분위수, 3사분위수"
      ],
      "metadata": {
        "colab": {
          "base_uri": "https://localhost:8080/"
        },
        "id": "v7wB_7N_I0zM",
        "outputId": "467fd520-4ac0-4d29-87ff-c64c91faefd2"
      },
      "execution_count": 16,
      "outputs": [
        {
          "output_type": "execute_result",
          "data": {
            "text/plain": [
              "10.0"
            ]
          },
          "metadata": {},
          "execution_count": 16
        }
      ]
    },
    {
      "cell_type": "code",
      "source": [
        "np.percentile(x, 100)  # 100% 백분위수, 4사분위수, 최댓값"
      ],
      "metadata": {
        "colab": {
          "base_uri": "https://localhost:8080/"
        },
        "id": "JbCd4SqGI20l",
        "outputId": "e2f001ee-b675-418f-ac21-8b0f93c680a1"
      },
      "execution_count": 17,
      "outputs": [
        {
          "output_type": "execute_result",
          "data": {
            "text/plain": [
              "23.0"
            ]
          },
          "metadata": {},
          "execution_count": 17
        }
      ]
    },
    {
      "cell_type": "markdown",
      "source": [
        "# 난수 발생과 카운팅"
      ],
      "metadata": {
        "id": "x1uZuajeI9Si"
      }
    },
    {
      "cell_type": "markdown",
      "source": [
        "## 시드 설정\n",
        "* 컴퓨터 프로그램에서 발생하는 무작위 수는 사실 엄격한 의미의 무작위 수가 아님\n",
        "* 어떤 특정한 시작 숫자를 정해 주면 컴퓨터가 정해진 알고리즘에 의해 마치 난수처럼 보이는 수열을 생성. 이런 시작 숫자를 시드(seed)라고 함\n",
        "* 일단 생성된 난수는 다음번 난수 생성을 위한 시드값이 됨. 따라서 시드값은 한 번만 정해주면 됨.\n",
        "* 시드는 보통 현재 시각 등을 이용하여 자동으로 정해지지만 사람이 수동으로 설정할 수도 있음 * 특정한 시드값이 사용되면 그 다음에 만들어지는 난수들은 모두 예측할 수 있음\n",
        "* 고정된 결과를 얻기 위해서 실습엔 시드를 설정"
      ],
      "metadata": {
        "id": "ZCEj6C5UJHHc"
      }
    },
    {
      "cell_type": "code",
      "source": [
        "np.random.seed(0) # 시드값 고정"
      ],
      "metadata": {
        "id": "R9wwclqfI8_9"
      },
      "execution_count": 18,
      "outputs": []
    },
    {
      "cell_type": "markdown",
      "source": [
        "### `rand` : 0과 1 사이의 난수를 발생"
      ],
      "metadata": {
        "id": "OQRCx_xUJf6l"
      }
    },
    {
      "cell_type": "code",
      "source": [
        "np.random.rand(5) # rand(n) : n개의 길이를 가지는 배열에 각각 0-1 사이의 난수를 채워줌"
      ],
      "metadata": {
        "colab": {
          "base_uri": "https://localhost:8080/"
        },
        "id": "w26duH5TJb7f",
        "outputId": "84dfe021-b186-4950-92f6-1597d3cae87d"
      },
      "execution_count": 20,
      "outputs": [
        {
          "output_type": "execute_result",
          "data": {
            "text/plain": [
              "array([0.5488135 , 0.71518937, 0.60276338, 0.54488318, 0.4236548 ])"
            ]
          },
          "metadata": {},
          "execution_count": 20
        }
      ]
    },
    {
      "cell_type": "code",
      "source": [
        "np.random.rand(10)"
      ],
      "metadata": {
        "colab": {
          "base_uri": "https://localhost:8080/"
        },
        "id": "5TrH0lG9Qolb",
        "outputId": "8d91f202-0523-4af8-f172-1910ff7f88d8"
      },
      "execution_count": 21,
      "outputs": [
        {
          "output_type": "execute_result",
          "data": {
            "text/plain": [
              "array([0.64589411, 0.43758721, 0.891773  , 0.96366276, 0.38344152,\n",
              "       0.79172504, 0.52889492, 0.56804456, 0.92559664, 0.07103606])"
            ]
          },
          "metadata": {},
          "execution_count": 21
        }
      ]
    },
    {
      "cell_type": "markdown",
      "source": [
        "## 데이터의 순서 변경"
      ],
      "metadata": {
        "id": "TvJHX9FmJtgQ"
      }
    },
    {
      "cell_type": "markdown",
      "source": [
        "### `shuffle`\n",
        "* 데이터의 순서를 변경\n",
        "* 자체 변환(in-place) 함수 (원본에 영향)"
      ],
      "metadata": {
        "id": "89jdzc8rJyqB"
      }
    },
    {
      "cell_type": "code",
      "source": [
        "x = np.arange(10)\n",
        "x"
      ],
      "metadata": {
        "colab": {
          "base_uri": "https://localhost:8080/"
        },
        "id": "vUHakdiQJpjl",
        "outputId": "0b60217d-54c4-4c38-bed0-a2dd71c8a5aa"
      },
      "execution_count": 22,
      "outputs": [
        {
          "output_type": "execute_result",
          "data": {
            "text/plain": [
              "array([0, 1, 2, 3, 4, 5, 6, 7, 8, 9])"
            ]
          },
          "metadata": {},
          "execution_count": 22
        }
      ]
    },
    {
      "cell_type": "code",
      "source": [
        "np.random.shuffle(x)  # x를 섞어줌 -> x\n",
        "x"
      ],
      "metadata": {
        "colab": {
          "base_uri": "https://localhost:8080/"
        },
        "id": "ReqSVnNlJ7S0",
        "outputId": "24cc73ba-2a80-4eb7-b146-17c113bf11a7"
      },
      "execution_count": 24,
      "outputs": [
        {
          "output_type": "execute_result",
          "data": {
            "text/plain": [
              "array([7, 8, 3, 6, 1, 5, 0, 4, 9, 2])"
            ]
          },
          "metadata": {},
          "execution_count": 24
        }
      ]
    },
    {
      "cell_type": "markdown",
      "source": [
        "## 데이터 샘플링\n",
        "* 표본선택 혹은 샘플링(sampling) : 이미 있는 데이터 집합에서 일부를 무작위로 선택하는 것"
      ],
      "metadata": {
        "id": "MbQrSKXMKJAg"
      }
    },
    {
      "cell_type": "markdown",
      "source": [
        "### `choice` : 샘플링에 사용\n",
        "```\n",
        "numpy.random.choice(a, size=None, replace=True, p=None)\n",
        "```\n",
        "* a : 배열이면 원래의 데이터, 정수이면 arange(a) 명령으로 데이터 생성\n",
        "* size : 정수. 샘플 숫자\n",
        "* replace : 불리언. True이면 한번 선택한 데이터를 다시 선택 가능 (복원/비복원 추출)\n",
        "* p : 배열. 각 데이터가 선택될 수 있는 확률"
      ],
      "metadata": {
        "id": "gEkehbizKWrq"
      }
    },
    {
      "cell_type": "code",
      "source": [
        "np.random.choice(5, 5, replace=False) # 5개 중에 5개를 선택 -> 비복원"
      ],
      "metadata": {
        "colab": {
          "base_uri": "https://localhost:8080/"
        },
        "id": "YvjoHXqIJ9KJ",
        "outputId": "9c62ac8d-bec7-4802-d7e8-3ea583f2c330"
      },
      "execution_count": 25,
      "outputs": [
        {
          "output_type": "execute_result",
          "data": {
            "text/plain": [
              "array([1, 4, 2, 3, 0])"
            ]
          },
          "metadata": {},
          "execution_count": 25
        }
      ]
    },
    {
      "cell_type": "code",
      "source": [
        "np.random.choice(5, 3, replace=False) # 5개 중에 5개를 선택"
      ],
      "metadata": {
        "colab": {
          "base_uri": "https://localhost:8080/"
        },
        "id": "x0gk7ikLR_PF",
        "outputId": "ad4befb9-d579-4fb1-cfd9-b70ae2e57ac9"
      },
      "execution_count": 26,
      "outputs": [
        {
          "output_type": "execute_result",
          "data": {
            "text/plain": [
              "array([0, 1, 4])"
            ]
          },
          "metadata": {},
          "execution_count": 26
        }
      ]
    },
    {
      "cell_type": "code",
      "source": [
        "np.random.choice(5, 10, replace=True) # 복원, 5개 중에 10개를 선택 (뽑았던거 또 뽑는다)"
      ],
      "metadata": {
        "colab": {
          "base_uri": "https://localhost:8080/"
        },
        "id": "knplEnwIKnYh",
        "outputId": "e35fb1cb-20ae-4316-9b5f-348b07ec7411"
      },
      "execution_count": 27,
      "outputs": [
        {
          "output_type": "execute_result",
          "data": {
            "text/plain": [
              "array([4, 2, 0, 0, 4, 0, 4, 1, 4, 1])"
            ]
          },
          "metadata": {},
          "execution_count": 27
        }
      ]
    },
    {
      "cell_type": "code",
      "source": [
        "#[0, 1, 2, 3, 4]\n",
        "np.random.choice(5, 10, p=(0.1, 0, 0.3, 0.6, 0))"
      ],
      "metadata": {
        "colab": {
          "base_uri": "https://localhost:8080/"
        },
        "id": "4Yd_3i6QKqMw",
        "outputId": "844c29f6-bcb0-4e15-aaf7-5fe85ebe7228"
      },
      "execution_count": 29,
      "outputs": [
        {
          "output_type": "execute_result",
          "data": {
            "text/plain": [
              "array([2, 0, 3, 3, 3, 3, 3, 3, 3, 3])"
            ]
          },
          "metadata": {},
          "execution_count": 29
        }
      ]
    },
    {
      "cell_type": "markdown",
      "source": [
        "## 난수 생성\n",
        "* `rand` : 0부터 1 사이의 균일 분포\n",
        "* `randn` : 표준 정규 분포\n",
        "* `randint` : 균일 분포의 정수 난수"
      ],
      "metadata": {
        "id": "D8oZhgNLLCgd"
      }
    },
    {
      "cell_type": "markdown",
      "source": [
        "### `rand` : 0부터 1 사이에서 균일한 확률 분포로 실수 난수를 생성\n",
        "* 숫자 인수는 생성할 난수의 크기\n",
        "* 여러 개의 인수를 넣으면 해당 크기를 가진 행렬을 생성"
      ],
      "metadata": {
        "id": "BcH0M0-_LPMP"
      }
    },
    {
      "cell_type": "code",
      "source": [
        "np.random.rand(10)"
      ],
      "metadata": {
        "colab": {
          "base_uri": "https://localhost:8080/"
        },
        "id": "EWqs3z-zK0k_",
        "outputId": "391b534f-169b-4ad2-f10a-8685fa9ab37b"
      },
      "execution_count": 30,
      "outputs": [
        {
          "output_type": "execute_result",
          "data": {
            "text/plain": [
              "array([0.6235101 , 0.33800761, 0.67475232, 0.31720174, 0.77834548,\n",
              "       0.94957105, 0.66252687, 0.01357164, 0.6228461 , 0.67365963])"
            ]
          },
          "metadata": {},
          "execution_count": 30
        }
      ]
    },
    {
      "cell_type": "code",
      "source": [
        "np.random.rand(3, 5) # 3항, 5열"
      ],
      "metadata": {
        "colab": {
          "base_uri": "https://localhost:8080/"
        },
        "id": "DJTNzp8oLbVj",
        "outputId": "f6fd6e5f-46b1-40be-f75b-1def8d0ae4c6"
      },
      "execution_count": 31,
      "outputs": [
        {
          "output_type": "execute_result",
          "data": {
            "text/plain": [
              "array([[0.971945  , 0.87819347, 0.50962438, 0.05571469, 0.45115921],\n",
              "       [0.01998767, 0.44171092, 0.97958673, 0.35944446, 0.48089353],\n",
              "       [0.68866118, 0.88047589, 0.91823547, 0.21682214, 0.56518887]])"
            ]
          },
          "metadata": {},
          "execution_count": 31
        }
      ]
    },
    {
      "cell_type": "markdown",
      "source": [
        "### `randn` : 기댓값이 0이고 표준편차가 1인 표준 정규 분포(standard normal distribution)를 따르는 난수를 생성"
      ],
      "metadata": {
        "id": "HdWD5uVkLjQt"
      }
    },
    {
      "cell_type": "code",
      "source": [
        "np.random.randn(10)"
      ],
      "metadata": {
        "colab": {
          "base_uri": "https://localhost:8080/"
        },
        "id": "AlJYbewHLeZB",
        "outputId": "2ed1d767-df79-4534-96f0-7e8caa809518"
      },
      "execution_count": 33,
      "outputs": [
        {
          "output_type": "execute_result",
          "data": {
            "text/plain": [
              "array([ 0.02752832,  1.12060466, -0.22403878, -0.42018339,  0.99982969,\n",
              "        0.43103415, -0.65091287, -1.49874039, -1.23063497,  0.19400719])"
            ]
          },
          "metadata": {},
          "execution_count": 33
        }
      ]
    },
    {
      "cell_type": "code",
      "source": [
        "np.random.randn(3, 5)"
      ],
      "metadata": {
        "colab": {
          "base_uri": "https://localhost:8080/"
        },
        "id": "gbDMC1OxLt3f",
        "outputId": "6f47067d-ad4f-487e-e9c5-088a5d609f43"
      },
      "execution_count": 34,
      "outputs": [
        {
          "output_type": "execute_result",
          "data": {
            "text/plain": [
              "array([[-0.99838235, -0.3676376 ,  1.73719932,  0.59361275, -0.54236358],\n",
              "       [-1.71967238, -0.57890879,  1.42694855,  0.27699691,  0.78966713],\n",
              "       [ 0.32207411,  0.70039238,  0.38871663, -0.04126386,  0.29588432]])"
            ]
          },
          "metadata": {},
          "execution_count": 34
        }
      ]
    },
    {
      "cell_type": "markdown",
      "source": [
        "### `randint`\n",
        "```\n",
        "numpy.random.randint(low, high=None, size=None)\n",
        "```\n",
        "만약 `high`를 입력하지 않으면 0과 `low`사이의 숫자, `high`를 입력하면 `low`와 `high`는 사이의 숫자를 출력. `size`는 난수의 숫자"
      ],
      "metadata": {
        "id": "FDtGkcnjLzTM"
      }
    },
    {
      "cell_type": "code",
      "source": [
        "np.random.randint(10) # 최댓값보다 작은 범위에서 랜덤 숫자 (끝점 제외)\n",
        "# np.random.randint(10, size=1)"
      ],
      "metadata": {
        "colab": {
          "base_uri": "https://localhost:8080/"
        },
        "id": "H5eTlhBGLy_D",
        "outputId": "f858e29f-f177-4c7a-a83a-748f8fb7a6dd"
      },
      "execution_count": 35,
      "outputs": [
        {
          "output_type": "execute_result",
          "data": {
            "text/plain": [
              "9"
            ]
          },
          "metadata": {},
          "execution_count": 35
        }
      ]
    },
    {
      "cell_type": "code",
      "source": [
        "np.random.randint(10, size=10) # 시작점"
      ],
      "metadata": {
        "colab": {
          "base_uri": "https://localhost:8080/"
        },
        "id": "xlpHLyNALuyj",
        "outputId": "851d2624-3836-4311-ee0e-f452098f3df2"
      },
      "execution_count": 36,
      "outputs": [
        {
          "output_type": "execute_result",
          "data": {
            "text/plain": [
              "array([8, 0, 8, 5, 9, 0, 9, 6, 5, 3])"
            ]
          },
          "metadata": {},
          "execution_count": 36
        }
      ]
    },
    {
      "cell_type": "code",
      "source": [
        "np.random.randint(10, 20, size=10)  # 시작점, 끝점"
      ],
      "metadata": {
        "colab": {
          "base_uri": "https://localhost:8080/"
        },
        "id": "RwOU04I2ME1f",
        "outputId": "1207853b-e4e8-442d-ca70-618f13e16175"
      },
      "execution_count": 37,
      "outputs": [
        {
          "output_type": "execute_result",
          "data": {
            "text/plain": [
              "array([11, 18, 10, 14, 19, 16, 15, 17, 18, 18])"
            ]
          },
          "metadata": {},
          "execution_count": 37
        }
      ]
    },
    {
      "cell_type": "code",
      "source": [
        "np.random.randint(10, 20, size=(3,5))"
      ],
      "metadata": {
        "colab": {
          "base_uri": "https://localhost:8080/"
        },
        "id": "FZ6pk0Q0UtK3",
        "outputId": "cd3e6b36-4491-45d3-e246-3b853fc41e57"
      },
      "execution_count": 38,
      "outputs": [
        {
          "output_type": "execute_result",
          "data": {
            "text/plain": [
              "array([[19, 12, 18, 16, 16],\n",
              "       [19, 11, 16, 18, 18],\n",
              "       [13, 12, 13, 16, 13]])"
            ]
          },
          "metadata": {},
          "execution_count": 38
        }
      ]
    },
    {
      "cell_type": "markdown",
      "source": [
        "## 💡 연습문제 7\n",
        "1. 동전을 10번 던져 앞면(숫자 1)과 뒷면(숫자 0)이 나오는 가상 실험을 작성하라\n",
        "2. 주사위를 100번 던져서 나오는 숫자의 평균\n",
        "3. 가격이 10,000원인 주식이 있다. 이 주식의 일간 수익률(%)은 기댓값이 0%이고 표준편차가 1%인 표준 정규 분포를 따른다고 하자. 250일 동안의 주가를 무작위로 생성하라"
      ],
      "metadata": {
        "id": "dCofCh17MOVI"
      }
    },
    {
      "cell_type": "code",
      "source": [
        "# 1\n",
        "np.random.randint(2, size=10)"
      ],
      "metadata": {
        "colab": {
          "base_uri": "https://localhost:8080/"
        },
        "id": "wSVBjqWJMGJ3",
        "outputId": "1e339933-ed05-49f2-acae-63ef26928282"
      },
      "execution_count": 40,
      "outputs": [
        {
          "output_type": "execute_result",
          "data": {
            "text/plain": [
              "array([0, 0, 1, 1, 1, 1, 0, 1, 0, 0])"
            ]
          },
          "metadata": {},
          "execution_count": 40
        }
      ]
    },
    {
      "cell_type": "code",
      "source": [
        "# 1\n",
        "np.random.choice([\"Head\",\"Tail\"], size = 10, replace=True)"
      ],
      "metadata": {
        "colab": {
          "base_uri": "https://localhost:8080/"
        },
        "id": "6i3oeA8lZXYw",
        "outputId": "fcc68c8f-2cad-417b-9197-af8b1d51e3cb"
      },
      "execution_count": 47,
      "outputs": [
        {
          "output_type": "execute_result",
          "data": {
            "text/plain": [
              "array(['Tail', 'Tail', 'Tail', 'Tail', 'Tail', 'Head', 'Head', 'Tail',\n",
              "       'Head', 'Tail'], dtype='<U4')"
            ]
          },
          "metadata": {},
          "execution_count": 47
        }
      ]
    },
    {
      "cell_type": "code",
      "source": [
        "# 2\n",
        "x = np.random.randint(1, 7, size=100)\n",
        "np.mean(x)"
      ],
      "metadata": {
        "colab": {
          "base_uri": "https://localhost:8080/"
        },
        "id": "rpstIcwsNB-3",
        "outputId": "92dd60ed-700f-4c3d-c438-d73f4338d0d7"
      },
      "execution_count": 49,
      "outputs": [
        {
          "output_type": "execute_result",
          "data": {
            "text/plain": [
              "3.58"
            ]
          },
          "metadata": {},
          "execution_count": 49
        }
      ]
    },
    {
      "cell_type": "code",
      "source": [
        "# 2\n",
        "# np.random.randint(1, 7, 100)\n",
        "# np.random.randint(1, 7, 100).mean()\n",
        "np.random.choice(range(1,7), size=100, replace=True).mean()"
      ],
      "metadata": {
        "colab": {
          "base_uri": "https://localhost:8080/"
        },
        "id": "9sQgLudYZsLS",
        "outputId": "5faa3370-b9b6-459e-d37f-a99929dc9a7d"
      },
      "execution_count": 48,
      "outputs": [
        {
          "output_type": "execute_result",
          "data": {
            "text/plain": [
              "3.62"
            ]
          },
          "metadata": {},
          "execution_count": 48
        }
      ]
    },
    {
      "cell_type": "code",
      "source": [
        "# 3.\n",
        "# np.random.randn(250)  # 정규분포\n",
        "# 평균(기댓값)이 0이고 표준편차가 1인 정규분포 1%->0.01\n",
        "a = np.random.randn(250)/100 # 일간 수익률이 표준정규분포표를 따르는 (0과 0.01이 표준편차)\n",
        "a"
      ],
      "metadata": {
        "colab": {
          "base_uri": "https://localhost:8080/"
        },
        "id": "zrCTnmQBNjbm",
        "outputId": "105eddf2-531c-4e39-8249-5a1eb322361d"
      },
      "execution_count": 53,
      "outputs": [
        {
          "output_type": "execute_result",
          "data": {
            "text/plain": [
              "array([-0.009073  ,  0.00224252, -0.01678688,  0.00214966,  0.00097219,\n",
              "        0.01015665,  0.00701041, -0.00417477, -0.01097497,  0.01712305,\n",
              "       -0.00792115, -0.01045525, -0.01084856,  0.01117305, -0.005189  ,\n",
              "       -0.00753704,  0.0013769 , -0.00206945, -0.00678095,  0.00753991,\n",
              "        0.01065315,  0.00985318,  0.0076692 ,  0.00402626, -0.01775888,\n",
              "        0.01669251,  0.00301989,  0.00608156,  0.01114962,  0.01433353,\n",
              "        0.00418398,  0.00435546, -0.00599224,  0.0003309 , -0.00854161,\n",
              "       -0.00719941, -0.00893574, -0.00156024,  0.01049093,  0.03170975,\n",
              "        0.001895  , -0.01348413,  0.01264983, -0.00300784, -0.00660609,\n",
              "        0.00209849, -0.01240625,  0.00222463, -0.00088376,  0.00098378,\n",
              "        0.00381416,  0.00067492,  0.00016338,  0.00284315,  0.00415401,\n",
              "       -0.01031482, -0.01429991, -0.00061638, -0.01432735,  0.00087531,\n",
              "        0.00938747,  0.00607112, -0.0104817 , -0.00860262,  0.00328301,\n",
              "       -0.00401298, -0.00316655,  0.00596906, -0.00987287, -0.00401235,\n",
              "       -0.00800082, -0.01043129, -0.00857078,  0.00677462,  0.0005182 ,\n",
              "       -0.00879161, -0.00231102, -0.01638807, -0.00733313,  0.02149575,\n",
              "       -0.00090244,  0.00731659, -0.00065488,  0.00348169,  0.00663258,\n",
              "       -0.01104617, -0.00030936,  0.01578865, -0.00795501, -0.0056644 ,\n",
              "       -0.00307691,  0.00269024,  0.00524918,  0.01267412,  0.00499498,\n",
              "       -0.00062053,  0.01259167,  0.00704111, -0.0149568 ,  0.02526368,\n",
              "        0.01769921, -0.00168214,  0.0037791 ,  0.01324359, -0.00172201,\n",
              "        0.00730352,  0.01104578, -0.01014826, -0.00602332,  0.00921408,\n",
              "        0.00460814,  0.00923797, -0.00132568, -0.00289005, -0.01998639,\n",
              "       -0.01146   ,  0.00047066,  0.00824557,  0.00531178, -0.00128242,\n",
              "       -0.00271772,  0.0021718 ,  0.00078211,  0.01404546,  0.00146441,\n",
              "       -0.01481246, -0.01272558,  0.01518759, -0.0117116 ,  0.00764497,\n",
              "       -0.00268373, -0.00169758, -0.00134133,  0.01221385, -0.00192842,\n",
              "       -0.00033319, -0.01530803,  0.00206691,  0.00531043,  0.00239146,\n",
              "        0.01397896,  0.00055171,  0.00298977,  0.01648504, -0.01550014,\n",
              "       -0.00455825,  0.01426159,  0.00936129,  0.0067838 ,  0.00832651,\n",
              "        0.00327066,  0.01631597,  0.00377759,  0.00239867,  0.00158959,\n",
              "        0.00192864, -0.01157017,  0.00770673, -0.0013044 ,  0.01821915,\n",
              "       -0.0007565 ,  0.00420918,  0.00246602, -0.00625557,  0.00992137,\n",
              "        0.01905064, -0.00014777, -0.00300479, -0.00355029, -0.01892362,\n",
              "       -0.00177813,  0.00250998,  0.01054758,  0.00960048, -0.00416499,\n",
              "       -0.00276823,  0.01123905, -0.00173464, -0.0051003 ,  0.01392518,\n",
              "        0.01037586,  0.00018792, -0.00593777, -0.0201188 ,  0.00589704,\n",
              "       -0.0089637 , -0.01962732,  0.01584821,  0.00647968, -0.01139008,\n",
              "       -0.01214401,  0.00870962, -0.00877971,  0.0129615 ,  0.00616459,\n",
              "        0.00536597,  0.00404695,  0.00191451,  0.00880511, -0.0045408 ,\n",
              "        0.00085952,  0.00751947,  0.0056299 , -0.01194987, -0.0050041 ,\n",
              "        0.00252804, -0.00408015,  0.01774659, -0.00393153, -0.00162218,\n",
              "        0.0076943 ,  0.00330533, -0.00145274, -0.00756494,  0.00301514,\n",
              "        0.01039096,  0.00479095, -0.00778184,  0.01736775, -0.01446578,\n",
              "       -0.01582686,  0.00960557,  0.0022584 , -0.00549499, -0.01098571,\n",
              "        0.023208  ,  0.00117091,  0.00534201,  0.00317885,  0.00434808,\n",
              "        0.00540094,  0.00732424, -0.00375222, -0.00291642, -0.01741023,\n",
              "       -0.00780304,  0.00271113,  0.01045023,  0.0059904 , -0.00340692,\n",
              "       -0.01263173, -0.02777359,  0.01151734, -0.00589229, -0.00448465,\n",
              "        0.00131574, -0.0140556 , -0.00349782,  0.02023472,  0.00505387])"
            ]
          },
          "metadata": {},
          "execution_count": 53
        }
      ]
    },
    {
      "cell_type": "code",
      "source": [
        "start = 10000  # 가격이 10000원 -> 250일 -> 평균/표준편차가 반영되면서 250일.\n",
        "price = np.empty(250)  # 자리\n",
        "for i, v in enumerate(a): # a -> 가격이 0의 기댓값, 1%의 표준편차를 바탕으로 250일치의 변화율이 생성\n",
        "    start *= (1 + v)  # i = index, v = 변화율\n",
        "    # -> 해당 금액의 변화율이 반영된 금액\n",
        "    price[i] = start  # 변화율에 따라서 변경된 금액에 배열에 저장.\n",
        "    # 한 번씩 for이 돌때마다 -> index += 1 => 계속 변화율이 반영된 금액들이 다음 인덱스에 저장"
      ],
      "metadata": {
        "id": "C7CgIfRJN7lQ"
      },
      "execution_count": 54,
      "outputs": []
    },
    {
      "cell_type": "code",
      "source": [
        "price"
      ],
      "metadata": {
        "colab": {
          "base_uri": "https://localhost:8080/"
        },
        "id": "FlnRuPYKblmX",
        "outputId": "bd607db7-e794-498b-b7ff-85932e8cedba"
      },
      "execution_count": 55,
      "outputs": [
        {
          "output_type": "execute_result",
          "data": {
            "text/plain": [
              "array([ 9909.26998785,  9931.49174588,  9764.77294968,  9785.76385153,\n",
              "        9795.27749599,  9894.76472875,  9964.13112011,  9922.53312957,\n",
              "        9813.6336604 ,  9981.67302197,  9902.60669066,  9799.07250592,\n",
              "        9692.76667407,  9801.06447134,  9750.20672776,  9676.7189842 ,\n",
              "        9690.04284172,  9669.98981061,  9604.41804864,  9676.83454118,\n",
              "        9779.92335869,  9876.28665591,  9952.0298409 ,  9992.09925391,\n",
              "        9814.65076231,  9978.48189931, 10008.615838  , 10069.48387853,\n",
              "       10181.75482989, 10327.69526759, 10370.9061392 , 10416.07622257,\n",
              "       10353.66056509, 10357.0865656 , 10268.62034441, 10194.69238446,\n",
              "       10103.59522292, 10087.83120052, 10193.66195045, 10516.90039938,\n",
              "       10536.82988752, 10394.74989428, 10526.24174762, 10494.58050964,\n",
              "       10425.2524089 , 10447.12974665, 10317.52008506, 10340.47276669,\n",
              "       10331.33431978, 10341.49807023, 10380.9422248 , 10387.94855703,\n",
              "       10389.64574881, 10419.18502014, 10462.46637996, 10354.54787433,\n",
              "       10206.47874485, 10200.18767016, 10054.04596137, 10062.84641569,\n",
              "       10157.31107202, 10218.97729309, 10111.86499722, 10024.87641946,\n",
              "       10057.78821857, 10017.4265352 ,  9985.70582365, 10045.31114891,\n",
              "        9946.13512862,  9906.22778219,  9826.96978966,  9724.46176902,\n",
              "        9641.11552823,  9706.43043864,  9711.4603487 ,  9626.08101283,\n",
              "        9603.83498486,  9446.44663536,  9377.17463232,  9578.74399031,\n",
              "        9570.09976298,  9640.12025223,  9633.80709411,  9667.3490466 ,\n",
              "        9731.4685212 ,  9623.97310474,  9620.99580766,  9772.89836182,\n",
              "        9695.1549016 ,  9640.23768035,  9610.57550989,  9636.43027158,\n",
              "        9687.0136155 ,  9809.78795506,  9858.78767261,  9852.66998669,\n",
              "        9976.73156855, 10046.97883518,  9896.70823073, 10146.73552432,\n",
              "       10326.32476657, 10308.95441962, 10347.91299975, 10484.95649101,\n",
              "       10466.90131282, 10543.34651395, 10659.80604994, 10551.62757643,\n",
              "       10488.07176247, 10584.70973645, 10633.48561128, 10731.7173856 ,\n",
              "       10717.49056093, 10686.51645472, 10472.93151829, 10352.91167842,\n",
              "       10357.78438964, 10443.19024861, 10498.66221598, 10485.19852431,\n",
              "       10456.70273603, 10479.41256462, 10487.60863696, 10634.91187369,\n",
              "       10650.48572058, 10492.72583089, 10359.19979474, 10516.53110886,\n",
              "       10393.3656546 , 10472.82267031, 10444.71646966, 10426.98569718,\n",
              "       10412.9996911 , 10540.18250316, 10519.85662249, 10516.3514817 ,\n",
              "       10355.36680542, 10376.77036606, 10431.87542756, 10456.82279662,\n",
              "       10602.99833152, 10608.84814935, 10640.56621367, 10815.97637442,\n",
              "       10648.3272059 , 10599.78943138, 10750.95925605, 10851.60211937,\n",
              "       10925.21722855, 11016.18613059, 11052.21635296, 11232.54403066,\n",
              "       11274.97599573, 11302.02095434, 11319.986497  , 11341.81867072,\n",
              "       11210.59186874, 11296.98887952, 11282.2531173 , 11487.80619023,\n",
              "       11479.11561078, 11527.43330725, 11555.86020981, 11483.5717133 ,\n",
              "       11597.50445749, 11818.44429812, 11816.69786065, 11781.19119042,\n",
              "       11739.36457684, 11517.21331507, 11496.734196  , 11525.59078224,\n",
              "       11647.15786444, 11758.97614042, 11710.00011269, 11677.58413969,\n",
              "       11808.82912741, 11788.34507221, 11728.22103009, 11891.53867172,\n",
              "       12014.92357257, 12017.18139199, 11945.82607903, 11705.49035517,\n",
              "       11774.51805385, 11668.97483904, 11439.94413473, 11621.2467177 ,\n",
              "       11696.54865334, 11563.32400587, 11422.89883922, 11522.38792253,\n",
              "       11421.22474225, 11569.26093161, 11640.58071803, 11703.04366914,\n",
              "       11750.40535503, 11772.90160855, 11876.56332568, 11822.63418388,\n",
              "       11832.79597127, 11921.7722768 , 11988.890629  , 11845.62496788,\n",
              "       11786.34831539, 11816.14461709, 11767.93300901, 11976.77363961,\n",
              "       11929.68657141, 11910.33441906, 12001.9761264 , 12041.64658733,\n",
              "       12024.15315061, 11933.19121013, 11969.17145912, 12093.5426937 ,\n",
              "       12151.48227917, 12056.92144646, 12266.32303872, 12088.88112172,\n",
              "       11897.55213595, 12011.83493253, 12038.96251803, 11972.808594  ,\n",
              "       11841.27882352, 12116.09120343, 12130.27804029, 12195.07812761,\n",
              "       12233.84446357, 12287.03819284, 12353.39980548, 12443.87907168,\n",
              "       12397.18684987, 12361.03144789, 12145.82307104, 12051.04867841,\n",
              "       12083.72061348, 12209.99831852, 12283.14103462, 12241.29331353,\n",
              "       12086.6646123 , 11750.97452732, 11886.31449331, 11816.27688289,\n",
              "       11763.28501604, 11778.76243689, 11613.204858  , 11572.58393687,\n",
              "       11806.75192669, 11866.4217088 ])"
            ]
          },
          "metadata": {},
          "execution_count": 55
        }
      ]
    },
    {
      "cell_type": "markdown",
      "source": [
        "## 정수 데이터 카운팅\n",
        "* 만약 난수가 정수값이면 unique 명령이나 bincount 명령으로 데이터 값을 분석"
      ],
      "metadata": {
        "id": "zc2junJdO2d8"
      }
    },
    {
      "cell_type": "markdown",
      "source": [
        "### `unique`\n",
        "* unique 함수는 데이터에서 중복된 값을 제거하고 중복되지 않는 값의 리스트를 출력\n",
        "* return_counts 인수를 True 로 설정하면 각 값을 가진 데이터 갯수도 출력\n"
      ],
      "metadata": {
        "id": "NQWG8zU8PJtG"
      }
    },
    {
      "cell_type": "code",
      "source": [
        "np.unique([11, 11, 2, 2, 34, 34])"
      ],
      "metadata": {
        "colab": {
          "base_uri": "https://localhost:8080/"
        },
        "id": "Zy46ohsVPDJv",
        "outputId": "b3983ca8-5fe5-4075-bad7-6534cd7920a8"
      },
      "execution_count": 56,
      "outputs": [
        {
          "output_type": "execute_result",
          "data": {
            "text/plain": [
              "array([ 2, 11, 34])"
            ]
          },
          "metadata": {},
          "execution_count": 56
        }
      ]
    },
    {
      "cell_type": "code",
      "source": [
        "a = np.array(list('abbca'))\n",
        "a"
      ],
      "metadata": {
        "id": "9l5BuLbwPPQF",
        "colab": {
          "base_uri": "https://localhost:8080/"
        },
        "outputId": "260adfbb-32c8-4056-9df6-73f7a7f7ab4a"
      },
      "execution_count": 58,
      "outputs": [
        {
          "output_type": "execute_result",
          "data": {
            "text/plain": [
              "array(['a', 'b', 'b', 'c', 'a'], dtype='<U1')"
            ]
          },
          "metadata": {},
          "execution_count": 58
        }
      ]
    },
    {
      "cell_type": "code",
      "source": [
        "np.unique(a, return_counts=True) # 고윳값별로 추가값이 있는지 확인"
      ],
      "metadata": {
        "colab": {
          "base_uri": "https://localhost:8080/"
        },
        "id": "kMLRdBasPQ4L",
        "outputId": "974356a4-fb94-46de-ece7-7e8eadf1f2ae"
      },
      "execution_count": 60,
      "outputs": [
        {
          "output_type": "execute_result",
          "data": {
            "text/plain": [
              "(array(['a', 'b', 'c'], dtype='<U1'), array([2, 2, 1]))"
            ]
          },
          "metadata": {},
          "execution_count": 60
        }
      ]
    },
    {
      "cell_type": "code",
      "source": [
        "index, value = np.unique(a, return_counts = True)\n",
        "index, value"
      ],
      "metadata": {
        "colab": {
          "base_uri": "https://localhost:8080/"
        },
        "id": "Kpx6OGmoPRi1",
        "outputId": "8ced42f9-e796-486d-cd9b-9e16b7668768"
      },
      "execution_count": 62,
      "outputs": [
        {
          "output_type": "execute_result",
          "data": {
            "text/plain": [
              "(array(['a', 'b', 'c'], dtype='<U1'), array([2, 2, 1]))"
            ]
          },
          "metadata": {},
          "execution_count": 62
        }
      ]
    },
    {
      "cell_type": "code",
      "source": [
        "list(zip(index, value))  # 같은 인덱스에 있는 값끼리 튜플화시켜서 묶어줌\n",
        "# index, value == *np.unique(a, return_counts=True)"
      ],
      "metadata": {
        "colab": {
          "base_uri": "https://localhost:8080/"
        },
        "id": "7pQnrs1ZdOpn",
        "outputId": "487c527e-d513-475d-ee2a-545efa3f39d8"
      },
      "execution_count": 65,
      "outputs": [
        {
          "output_type": "execute_result",
          "data": {
            "text/plain": [
              "[('a', 2), ('b', 2), ('c', 1)]"
            ]
          },
          "metadata": {},
          "execution_count": 65
        }
      ]
    },
    {
      "cell_type": "code",
      "source": [
        "dict(zip(*np.unique(a, return_counts=True)))  # key, value"
      ],
      "metadata": {
        "colab": {
          "base_uri": "https://localhost:8080/"
        },
        "id": "dHYbHYuGdkgk",
        "outputId": "297bef65-66a9-4928-ed04-977a9a6b95cf"
      },
      "execution_count": 66,
      "outputs": [
        {
          "output_type": "execute_result",
          "data": {
            "text/plain": [
              "{'a': 2, 'b': 2, 'c': 1}"
            ]
          },
          "metadata": {},
          "execution_count": 66
        }
      ]
    },
    {
      "cell_type": "markdown",
      "source": [
        "### `bincount`\n",
        "* `unique` 함수는 데이터에 존재하는 값에 대해서만 갯수를 세므로 데이터 값이 나올 수 있음에도 불구하고 데이터가 하나도 없는 경우에는 정보를 주지 않음\n",
        "* 따라서 데이터가 주사위를 던졌을 때 나오는 수처럼 특정 범위안의 수인 경우에는 `bincount` 함수에 `minlength` 인수를 설정하여 쓰는 것이 더 편리\n",
        "* `bincount` 함수는 0 부터 `minlength` - 1 까지의 숫자에 대해 각각 카운트\n",
        "* 데이터가 없을 경우에는 카운트 값이 0이 됨"
      ],
      "metadata": {
        "id": "GihAHqezPWii"
      }
    },
    {
      "cell_type": "code",
      "source": [
        "np.bincount([1, 1, 2, 2, 2, 3], minlength=6) # 1 = 2, 2 = 3, 3 = 1"
      ],
      "metadata": {
        "colab": {
          "base_uri": "https://localhost:8080/"
        },
        "id": "SWLVdyPEPmqk",
        "outputId": "ef24327c-5b45-4ddc-bf95-17b3cf01d0a7"
      },
      "execution_count": 67,
      "outputs": [
        {
          "output_type": "execute_result",
          "data": {
            "text/plain": [
              "array([0, 2, 3, 1, 0, 0])"
            ]
          },
          "metadata": {},
          "execution_count": 67
        }
      ]
    }
  ]
}