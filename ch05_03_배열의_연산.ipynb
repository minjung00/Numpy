{
  "nbformat": 4,
  "nbformat_minor": 0,
  "metadata": {
    "colab": {
      "provenance": [],
      "include_colab_link": true
    },
    "kernelspec": {
      "name": "python3",
      "display_name": "Python 3"
    },
    "language_info": {
      "name": "python"
    }
  },
  "cells": [
    {
      "cell_type": "markdown",
      "metadata": {
        "id": "view-in-github",
        "colab_type": "text"
      },
      "source": [
        "<a href=\"https://colab.research.google.com/github/minjung00/Numpy/blob/main/ch05_03_%EB%B0%B0%EC%97%B4%EC%9D%98_%EC%97%B0%EC%82%B0.ipynb\" target=\"_parent\"><img src=\"https://colab.research.google.com/assets/colab-badge.svg\" alt=\"Open In Colab\"/></a>"
      ]
    },
    {
      "cell_type": "markdown",
      "source": [
        "# 배열의 연산"
      ],
      "metadata": {
        "id": "0bu09Yqa7q4u"
      }
    },
    {
      "cell_type": "markdown",
      "source": [
        "## 벡터화 연산 (vectorized operation)\n",
        "* 명시적으로 반복문을 사용하지 않고도 배열의 모든 원소에 대해 반복 연산을 할 수 있음\n",
        "* 선형 대수 공식과 동일한 아주 간단한 파이썬 코드를 작성할 수 있음\n",
        "\n",
        "<br>\n",
        "$$\n",
        "x = \\begin{bmatrix}1\\\\2\\\\3\\\\⋯\\\\10000\\end{bmatrix},\\quad\n",
        "y = \\begin{bmatrix}10001\\\\10002\\\\10003\\\\⋯\\\\20000\\end{bmatrix}\n",
        "$$\n",
        "\n",
        "<br>\n",
        "$$\n",
        "z = x + y\n",
        "$$\n",
        "\n",
        "<br>\n",
        "$$\n",
        "\\begin{bmatrix}1\\\\2\\\\3\\\\⋯\\\\10000\\end{bmatrix}\n",
        "+ \\begin{bmatrix}10001\\\\10002\\\\10003\\\\⋯\\\\20000\\end{bmatrix}\n",
        "= \\begin{bmatrix}1+10001\\\\2+10002\\\\3+10003\\\\⋯\\\\10000+20000\\end{bmatrix}\n",
        "= \\begin{bmatrix}10002\\\\10004\\\\10006\\\\⋯\\\\30000\\end{bmatrix}\n",
        "$$\n",
        "\n"
      ],
      "metadata": {
        "id": "VyUPscjA8Lf8"
      }
    },
    {
      "cell_type": "code",
      "source": [
        "import numpy as np"
      ],
      "metadata": {
        "id": "VEIfjEzG9chC"
      },
      "execution_count": 100,
      "outputs": []
    },
    {
      "cell_type": "code",
      "source": [
        "x = np.arange(1, 10001)\n",
        "y = np.arange(10001, 20001)\n",
        "x, y"
      ],
      "metadata": {
        "colab": {
          "base_uri": "https://localhost:8080/"
        },
        "id": "_8dbdsP1l8wh",
        "outputId": "fba461fc-bd6c-4bf1-aaed-7bc89edd5f93"
      },
      "execution_count": 101,
      "outputs": [
        {
          "output_type": "execute_result",
          "data": {
            "text/plain": [
              "(array([    1,     2,     3, ...,  9998,  9999, 10000]),\n",
              " array([10001, 10002, 10003, ..., 19998, 19999, 20000]))"
            ]
          },
          "metadata": {},
          "execution_count": 101
        }
      ]
    },
    {
      "cell_type": "code",
      "source": [
        "%%time\n",
        "z = np.zeros_like(x)  # 2개의 배열을 더했을 때의 결과를 담아줄 새로운 배열\n",
        "for i in range(len(z)):\n",
        "    # range(len(z)) -> 해당 z 배열의 길이만큼을 가진 range => 반복했을 때 z의 길이만큼 반복해줄 수 있는 인덱스 range\n",
        "    z[i] = x[i] + y[i]  # x와 y와 z의 길이가 일치하기 때문에 -> 반복을 하면 x, y의 모든 원소(요소) 인덱스로 찾아서\n",
        "    # x + y 연산을 해주는 기능."
      ],
      "metadata": {
        "colab": {
          "base_uri": "https://localhost:8080/"
        },
        "id": "RA5HZKLe9eaf",
        "outputId": "e897184d-9e76-41df-c04a-fb960bfe7692"
      },
      "execution_count": 102,
      "outputs": [
        {
          "output_type": "stream",
          "name": "stdout",
          "text": [
            "CPU times: user 7.26 ms, sys: 0 ns, total: 7.26 ms\n",
            "Wall time: 11.3 ms\n"
          ]
        }
      ]
    },
    {
      "cell_type": "code",
      "source": [
        "%%timeit\n",
        "z = np.zeros_like(x)  # 2개의 배열을 더했을 때의 결과를 담아줄 새로운 배열\n",
        "for i in range(len(z)):\n",
        "    # range(len(z)) -> 해당 z 배열의 길이만큼을 가진 range => 반복했을 때 z의 길이만큼 반복해줄 수 있는 인덱스 range\n",
        "    z[i] = x[i] + y[i]  # x와 y와 z의 길이가 일치하기 때문에 -> 반복을 하면 x, y의 모든 원소(요소) 인덱스로 찾아서\n",
        "    # x + y 연산을 해주는 기능."
      ],
      "metadata": {
        "colab": {
          "base_uri": "https://localhost:8080/"
        },
        "id": "mKt59hyXmvDy",
        "outputId": "a1bd4044-2d4b-4b3d-bdf0-291a822cb88a"
      },
      "execution_count": 103,
      "outputs": [
        {
          "output_type": "stream",
          "name": "stdout",
          "text": [
            "5.63 ms ± 1.85 ms per loop (mean ± std. dev. of 7 runs, 100 loops each)\n"
          ]
        }
      ]
    },
    {
      "cell_type": "code",
      "source": [
        "%%time\n",
        "z = x + y"
      ],
      "metadata": {
        "colab": {
          "base_uri": "https://localhost:8080/"
        },
        "id": "2xr9-N3x9fsJ",
        "outputId": "8c42ba45-62d1-4351-9adf-038135de6c68"
      },
      "execution_count": 104,
      "outputs": [
        {
          "output_type": "stream",
          "name": "stdout",
          "text": [
            "CPU times: user 61 µs, sys: 0 ns, total: 61 µs\n",
            "Wall time: 65.1 µs\n"
          ]
        }
      ]
    },
    {
      "cell_type": "code",
      "source": [
        "%%timeit\n",
        "z = x + y"
      ],
      "metadata": {
        "colab": {
          "base_uri": "https://localhost:8080/"
        },
        "id": "9tQ3ZsSe9iyl",
        "outputId": "17fda5dd-622f-48af-ba85-0f81de1b0e96"
      },
      "execution_count": 105,
      "outputs": [
        {
          "output_type": "stream",
          "name": "stdout",
          "text": [
            "5.32 µs ± 135 ns per loop (mean ± std. dev. of 7 runs, 100000 loops each)\n"
          ]
        }
      ]
    },
    {
      "cell_type": "code",
      "source": [
        "z"
      ],
      "metadata": {
        "colab": {
          "base_uri": "https://localhost:8080/"
        },
        "id": "PA_D4HdC9kXC",
        "outputId": "14c5278d-92f6-44e8-e4d7-df7c72920e41"
      },
      "execution_count": 106,
      "outputs": [
        {
          "output_type": "execute_result",
          "data": {
            "text/plain": [
              "array([10002, 10004, 10006, ..., 29996, 29998, 30000])"
            ]
          },
          "metadata": {},
          "execution_count": 106
        }
      ]
    },
    {
      "cell_type": "code",
      "source": [
        "# 사칙 연산뿐 아니라 비교 연산과 같은 논리 연산도 벡터화 연산이 가능"
      ],
      "metadata": {
        "id": "iHMb2Zcs9mvv"
      },
      "execution_count": 107,
      "outputs": []
    },
    {
      "cell_type": "code",
      "source": [
        "x == y"
      ],
      "metadata": {
        "colab": {
          "base_uri": "https://localhost:8080/"
        },
        "id": "GW3fosRZ9tOO",
        "outputId": "2e6fbeb4-7cfa-4480-f192-9708ec4012a9"
      },
      "execution_count": 108,
      "outputs": [
        {
          "output_type": "execute_result",
          "data": {
            "text/plain": [
              "array([False, False, False, ..., False, False, False])"
            ]
          },
          "metadata": {},
          "execution_count": 108
        }
      ]
    },
    {
      "cell_type": "code",
      "source": [
        "(x == y) | (x < y)"
      ],
      "metadata": {
        "colab": {
          "base_uri": "https://localhost:8080/"
        },
        "id": "3OQn2RbW9tl4",
        "outputId": "e0f15665-177c-4c5b-ad17-e6e05d735d08"
      },
      "execution_count": 109,
      "outputs": [
        {
          "output_type": "execute_result",
          "data": {
            "text/plain": [
              "array([ True,  True,  True, ...,  True,  True,  True])"
            ]
          },
          "metadata": {},
          "execution_count": 109
        }
      ]
    },
    {
      "cell_type": "code",
      "source": [
        "# 배열의 각 원소를 일일히 비교하는 것이 아닌 배열의 모든 원소가 다 같은지 알고 싶다면 all 명령 사용\n",
        "a = np.arange(1, 5)\n",
        "b = np.array((4, 2, 2, 4))\n",
        "c = np.arange(1, 5)\n",
        "a, b, c"
      ],
      "metadata": {
        "id": "dRQ7U6AV9u5m",
        "colab": {
          "base_uri": "https://localhost:8080/"
        },
        "outputId": "11ef76b2-1a4a-44aa-bbf4-8a65156192bb"
      },
      "execution_count": 110,
      "outputs": [
        {
          "output_type": "execute_result",
          "data": {
            "text/plain": [
              "(array([1, 2, 3, 4]), array([4, 2, 2, 4]), array([1, 2, 3, 4]))"
            ]
          },
          "metadata": {},
          "execution_count": 110
        }
      ]
    },
    {
      "cell_type": "code",
      "source": [
        "a == b"
      ],
      "metadata": {
        "colab": {
          "base_uri": "https://localhost:8080/"
        },
        "id": "rHLwRhF7nbyT",
        "outputId": "9deceb12-8d2d-4a00-ae40-17da75a3fc08"
      },
      "execution_count": 111,
      "outputs": [
        {
          "output_type": "execute_result",
          "data": {
            "text/plain": [
              "array([False,  True, False,  True])"
            ]
          },
          "metadata": {},
          "execution_count": 111
        }
      ]
    },
    {
      "cell_type": "code",
      "source": [
        "np.all(a == b)  # 모두 일치 하냐"
      ],
      "metadata": {
        "colab": {
          "base_uri": "https://localhost:8080/"
        },
        "id": "UvNaudEI97P3",
        "outputId": "c32d3836-e5a1-4d9d-f49b-a91e6b1c9496"
      },
      "execution_count": 112,
      "outputs": [
        {
          "output_type": "execute_result",
          "data": {
            "text/plain": [
              "False"
            ]
          },
          "metadata": {},
          "execution_count": 112
        }
      ]
    },
    {
      "cell_type": "code",
      "source": [
        "np.all(a == c)"
      ],
      "metadata": {
        "colab": {
          "base_uri": "https://localhost:8080/"
        },
        "id": "Aza_eKBf98bX",
        "outputId": "0af20242-76c9-48ce-deac-1fb17215bd83"
      },
      "execution_count": 113,
      "outputs": [
        {
          "output_type": "execute_result",
          "data": {
            "text/plain": [
              "True"
            ]
          },
          "metadata": {},
          "execution_count": 113
        }
      ]
    },
    {
      "cell_type": "code",
      "source": [
        "np.any(a == c)"
      ],
      "metadata": {
        "colab": {
          "base_uri": "https://localhost:8080/"
        },
        "id": "L6Kko6BVnlkY",
        "outputId": "5ff74f97-9224-47c8-e42c-d1ea66190801"
      },
      "execution_count": 114,
      "outputs": [
        {
          "output_type": "execute_result",
          "data": {
            "text/plain": [
              "True"
            ]
          },
          "metadata": {},
          "execution_count": 114
        }
      ]
    },
    {
      "cell_type": "code",
      "source": [
        "# 지수 함수, 로그 함수 등의 수학 함수도 벡터화 연산을 지원\n",
        "a"
      ],
      "metadata": {
        "colab": {
          "base_uri": "https://localhost:8080/"
        },
        "id": "n-hlpfj899lo",
        "outputId": "aeaf8151-015e-4d4b-c780-c89cdda35477"
      },
      "execution_count": 115,
      "outputs": [
        {
          "output_type": "execute_result",
          "data": {
            "text/plain": [
              "array([1, 2, 3, 4])"
            ]
          },
          "metadata": {},
          "execution_count": 115
        }
      ]
    },
    {
      "cell_type": "code",
      "source": [
        "np.exp(a)  # exponential (지수)"
      ],
      "metadata": {
        "colab": {
          "base_uri": "https://localhost:8080/"
        },
        "id": "ZsYR0Al2-Aoc",
        "outputId": "4b2ce768-e235-49af-9875-2a771da16cdf"
      },
      "execution_count": 116,
      "outputs": [
        {
          "output_type": "execute_result",
          "data": {
            "text/plain": [
              "array([ 2.71828183,  7.3890561 , 20.08553692, 54.59815003])"
            ]
          },
          "metadata": {},
          "execution_count": 116
        }
      ]
    },
    {
      "cell_type": "code",
      "source": [
        "10 ** a"
      ],
      "metadata": {
        "colab": {
          "base_uri": "https://localhost:8080/"
        },
        "id": "voLHjpyc-Bth",
        "outputId": "3dadbb50-7a03-4563-8a04-0c64376c2666"
      },
      "execution_count": 117,
      "outputs": [
        {
          "output_type": "execute_result",
          "data": {
            "text/plain": [
              "array([   10,   100,  1000, 10000])"
            ]
          },
          "metadata": {},
          "execution_count": 117
        }
      ]
    },
    {
      "cell_type": "code",
      "source": [
        "np.log(a+1)"
      ],
      "metadata": {
        "colab": {
          "base_uri": "https://localhost:8080/"
        },
        "id": "4jVRQZHG-CyM",
        "outputId": "4a332ee7-1ed3-4a21-b264-66c549be0e8e"
      },
      "execution_count": 118,
      "outputs": [
        {
          "output_type": "execute_result",
          "data": {
            "text/plain": [
              "array([0.69314718, 1.09861229, 1.38629436, 1.60943791])"
            ]
          },
          "metadata": {},
          "execution_count": 118
        }
      ]
    },
    {
      "cell_type": "markdown",
      "source": [
        "## 스칼라와 벡터/행렬의 곱셈"
      ],
      "metadata": {
        "id": "8N5Dc5Q--Uko"
      }
    },
    {
      "cell_type": "code",
      "source": [
        "x = np.arange(10)\n",
        "x"
      ],
      "metadata": {
        "colab": {
          "base_uri": "https://localhost:8080/"
        },
        "id": "D10JF_hy-T9v",
        "outputId": "b45616ea-b8a2-48b7-8a26-2166fb813fa8"
      },
      "execution_count": 119,
      "outputs": [
        {
          "output_type": "execute_result",
          "data": {
            "text/plain": [
              "array([0, 1, 2, 3, 4, 5, 6, 7, 8, 9])"
            ]
          },
          "metadata": {},
          "execution_count": 119
        }
      ]
    },
    {
      "cell_type": "code",
      "source": [
        "x * 100"
      ],
      "metadata": {
        "colab": {
          "base_uri": "https://localhost:8080/"
        },
        "id": "Y7tGxKgq-X5o",
        "outputId": "fac8d16e-f577-4ae8-aad0-90f80cf619fe"
      },
      "execution_count": 120,
      "outputs": [
        {
          "output_type": "execute_result",
          "data": {
            "text/plain": [
              "array([  0, 100, 200, 300, 400, 500, 600, 700, 800, 900])"
            ]
          },
          "metadata": {},
          "execution_count": 120
        }
      ]
    },
    {
      "cell_type": "code",
      "source": [
        "x = np.arange(12).reshape(3, -1)\n",
        "x"
      ],
      "metadata": {
        "colab": {
          "base_uri": "https://localhost:8080/"
        },
        "id": "u61-Rsr9-EE9",
        "outputId": "c47f9697-95a1-4d26-f227-bc6bf3a33eb0"
      },
      "execution_count": 121,
      "outputs": [
        {
          "output_type": "execute_result",
          "data": {
            "text/plain": [
              "array([[ 0,  1,  2,  3],\n",
              "       [ 4,  5,  6,  7],\n",
              "       [ 8,  9, 10, 11]])"
            ]
          },
          "metadata": {},
          "execution_count": 121
        }
      ]
    },
    {
      "cell_type": "code",
      "source": [
        "x * 100"
      ],
      "metadata": {
        "colab": {
          "base_uri": "https://localhost:8080/"
        },
        "id": "aWaSxIRQ-bEy",
        "outputId": "4a5b519f-7fa9-4bb9-a9fa-57c30ddc3ed9"
      },
      "execution_count": 122,
      "outputs": [
        {
          "output_type": "execute_result",
          "data": {
            "text/plain": [
              "array([[   0,  100,  200,  300],\n",
              "       [ 400,  500,  600,  700],\n",
              "       [ 800,  900, 1000, 1100]])"
            ]
          },
          "metadata": {},
          "execution_count": 122
        }
      ]
    },
    {
      "cell_type": "markdown",
      "source": [
        "## 브로드캐스팅\n",
        "* 백터(또는 행렬)끼리 덧셈 혹은 뺄셈을 하려면 두 벡터(또는 행렬)의 크기가 같아야 함\n",
        "* Numpy에선 서로 다른 크기를 가진 두 배열의 사칙 연산 지원 = 브로드캐스팅(broadcasting)\n",
        "> 크기가 작은 배열을 자동으로 반복 확장하여 크기가 큰 배열에 맞추는 방법\n",
        "\n",
        "<br>\n",
        "$$\n",
        "x = \\begin{bmatrix}0\\\\1\\\\2\\\\3\\\\4\\end{bmatrix},\\quad\n",
        "x + 1 = \\begin{bmatrix}0\\\\1\\\\2\\\\3\\\\4\\end{bmatrix} + 1 = ?\n",
        "$$\n",
        "<br>\n",
        "$$\n",
        "\\begin{bmatrix}0\\\\1\\\\2\\\\3\\\\4\\end{bmatrix} + 1\n",
        "= \\begin{bmatrix}0\\\\1\\\\2\\\\3\\\\4\\end{bmatrix}\n",
        "+ \\begin{bmatrix}1\\\\1\\\\1\\\\1\\\\1\\end{bmatrix}\n",
        "= \\begin{bmatrix}1\\\\2\\\\3\\\\4\\\\5\\end{bmatrix}\n",
        "$$"
      ],
      "metadata": {
        "id": "QLUTAyOg-eZh"
      }
    },
    {
      "cell_type": "code",
      "source": [
        "x = np.arange(5)\n",
        "x"
      ],
      "metadata": {
        "colab": {
          "base_uri": "https://localhost:8080/"
        },
        "id": "3CPFyxjm-ceU",
        "outputId": "2e46285e-bdea-488e-985d-53b96e43fc7a"
      },
      "execution_count": 123,
      "outputs": [
        {
          "output_type": "execute_result",
          "data": {
            "text/plain": [
              "array([0, 1, 2, 3, 4])"
            ]
          },
          "metadata": {},
          "execution_count": 123
        }
      ]
    },
    {
      "cell_type": "code",
      "source": [
        "y = np.ones_like(x)\n",
        "y"
      ],
      "metadata": {
        "colab": {
          "base_uri": "https://localhost:8080/"
        },
        "id": "zjzZosy-_ny2",
        "outputId": "e725410c-f78d-4345-c5d2-fe53e1258e4b"
      },
      "execution_count": 124,
      "outputs": [
        {
          "output_type": "execute_result",
          "data": {
            "text/plain": [
              "array([1, 1, 1, 1, 1])"
            ]
          },
          "metadata": {},
          "execution_count": 124
        }
      ]
    },
    {
      "cell_type": "code",
      "source": [
        "x + y"
      ],
      "metadata": {
        "colab": {
          "base_uri": "https://localhost:8080/"
        },
        "id": "iWiyIctf_tDo",
        "outputId": "eb96ad43-74f9-484e-c80e-f559c5dda540"
      },
      "execution_count": 125,
      "outputs": [
        {
          "output_type": "execute_result",
          "data": {
            "text/plain": [
              "array([1, 2, 3, 4, 5])"
            ]
          },
          "metadata": {},
          "execution_count": 125
        }
      ]
    },
    {
      "cell_type": "code",
      "source": [
        "x + 1"
      ],
      "metadata": {
        "colab": {
          "base_uri": "https://localhost:8080/"
        },
        "id": "uDVrYI84_ulY",
        "outputId": "756c99b1-38c3-4b26-a3d8-7de99b2ebf4e"
      },
      "execution_count": 126,
      "outputs": [
        {
          "output_type": "execute_result",
          "data": {
            "text/plain": [
              "array([1, 2, 3, 4, 5])"
            ]
          },
          "metadata": {},
          "execution_count": 126
        }
      ]
    },
    {
      "cell_type": "code",
      "source": [
        "np.full(5, 2) #2로 가득찬 5줄 만들어줌"
      ],
      "metadata": {
        "colab": {
          "base_uri": "https://localhost:8080/"
        },
        "id": "t6fj8IpnphGP",
        "outputId": "c046cc1b-6b71-468e-c140-064f951e028b"
      },
      "execution_count": 127,
      "outputs": [
        {
          "output_type": "execute_result",
          "data": {
            "text/plain": [
              "array([2, 2, 2, 2, 2])"
            ]
          },
          "metadata": {},
          "execution_count": 127
        }
      ]
    },
    {
      "cell_type": "code",
      "source": [
        "z = np.full_like(x, 2)\n",
        "z"
      ],
      "metadata": {
        "colab": {
          "base_uri": "https://localhost:8080/"
        },
        "id": "RQecmWGMpqOa",
        "outputId": "e4765bdd-1ff3-473c-ac3b-7d7f7cfaacf9"
      },
      "execution_count": 128,
      "outputs": [
        {
          "output_type": "execute_result",
          "data": {
            "text/plain": [
              "array([2, 2, 2, 2, 2])"
            ]
          },
          "metadata": {},
          "execution_count": 128
        }
      ]
    },
    {
      "cell_type": "code",
      "source": [
        "x + z, x + 2"
      ],
      "metadata": {
        "colab": {
          "base_uri": "https://localhost:8080/"
        },
        "id": "Lj7dzd4ep4Fw",
        "outputId": "45e01cae-1783-499a-b2f2-6d07bc1cf982"
      },
      "execution_count": 129,
      "outputs": [
        {
          "output_type": "execute_result",
          "data": {
            "text/plain": [
              "(array([2, 3, 4, 5, 6]), array([2, 3, 4, 5, 6]))"
            ]
          },
          "metadata": {},
          "execution_count": 129
        }
      ]
    },
    {
      "cell_type": "code",
      "source": [
        "# 2차원 이상에서도 적용됨\n",
        "# x = np.vstack([range(7)[i:i+3] for i in range(5)])\n",
        "r = [range(7)[i:i+3] for i in range(5)]\n",
        "print(r)\n",
        "x = np.vstack(r)  # 열 기준으로 -> 행을 늘리면서 합쳐주는 거죠.\n",
        "x, x.shape"
      ],
      "metadata": {
        "colab": {
          "base_uri": "https://localhost:8080/"
        },
        "id": "hNWx7bav_vF9",
        "outputId": "0bcf19bd-7fe4-4e73-c267-220496bd7d3a"
      },
      "execution_count": 130,
      "outputs": [
        {
          "output_type": "stream",
          "name": "stdout",
          "text": [
            "[range(0, 3), range(1, 4), range(2, 5), range(3, 6), range(4, 7)]\n"
          ]
        },
        {
          "output_type": "execute_result",
          "data": {
            "text/plain": [
              "(array([[0, 1, 2],\n",
              "        [1, 2, 3],\n",
              "        [2, 3, 4],\n",
              "        [3, 4, 5],\n",
              "        [4, 5, 6]]),\n",
              " (5, 3))"
            ]
          },
          "metadata": {},
          "execution_count": 130
        }
      ]
    },
    {
      "cell_type": "code",
      "source": [
        "y = np.arange(5)\n",
        "y, y.ndim"
      ],
      "metadata": {
        "colab": {
          "base_uri": "https://localhost:8080/"
        },
        "id": "aEPuC1In_08w",
        "outputId": "0df1bfb4-ad72-4403-97b7-a6d58d10a638"
      },
      "execution_count": 131,
      "outputs": [
        {
          "output_type": "execute_result",
          "data": {
            "text/plain": [
              "(array([0, 1, 2, 3, 4]), 1)"
            ]
          },
          "metadata": {},
          "execution_count": 131
        }
      ]
    },
    {
      "cell_type": "code",
      "source": [
        "y2 = y[:, np.newaxis]\n",
        "y2"
      ],
      "metadata": {
        "colab": {
          "base_uri": "https://localhost:8080/"
        },
        "id": "-pgBnA60qz89",
        "outputId": "d638cffa-3711-4e57-c870-cbaaa8db5dc6"
      },
      "execution_count": 132,
      "outputs": [
        {
          "output_type": "execute_result",
          "data": {
            "text/plain": [
              "array([[0],\n",
              "       [1],\n",
              "       [2],\n",
              "       [3],\n",
              "       [4]])"
            ]
          },
          "metadata": {},
          "execution_count": 132
        }
      ]
    },
    {
      "cell_type": "code",
      "source": [
        "y3 = np.tile(y2, 3)\n",
        "y3"
      ],
      "metadata": {
        "colab": {
          "base_uri": "https://localhost:8080/"
        },
        "id": "uQqR40ZB_4Ot",
        "outputId": "f4869625-99d6-42b8-f411-1e566901a0af"
      },
      "execution_count": 133,
      "outputs": [
        {
          "output_type": "execute_result",
          "data": {
            "text/plain": [
              "array([[0, 0, 0],\n",
              "       [1, 1, 1],\n",
              "       [2, 2, 2],\n",
              "       [3, 3, 3],\n",
              "       [4, 4, 4]])"
            ]
          },
          "metadata": {},
          "execution_count": 133
        }
      ]
    },
    {
      "cell_type": "code",
      "source": [
        "x + y3"
      ],
      "metadata": {
        "colab": {
          "base_uri": "https://localhost:8080/"
        },
        "id": "aYTW4GzV_684",
        "outputId": "06978d0d-7950-49c2-f85e-f064ecdeec68"
      },
      "execution_count": 134,
      "outputs": [
        {
          "output_type": "execute_result",
          "data": {
            "text/plain": [
              "array([[ 0,  1,  2],\n",
              "       [ 2,  3,  4],\n",
              "       [ 4,  5,  6],\n",
              "       [ 6,  7,  8],\n",
              "       [ 8,  9, 10]])"
            ]
          },
          "metadata": {},
          "execution_count": 134
        }
      ]
    },
    {
      "cell_type": "code",
      "source": [
        "x + y2"
      ],
      "metadata": {
        "colab": {
          "base_uri": "https://localhost:8080/"
        },
        "id": "hIrEN7MF_2-y",
        "outputId": "4f891a87-89c5-4780-b6e9-a2f10dc8cce9"
      },
      "execution_count": 137,
      "outputs": [
        {
          "output_type": "execute_result",
          "data": {
            "text/plain": [
              "array([[ 0,  1,  2],\n",
              "       [ 2,  3,  4],\n",
              "       [ 4,  5,  6],\n",
              "       [ 6,  7,  8],\n",
              "       [ 8,  9, 10]])"
            ]
          },
          "metadata": {},
          "execution_count": 137
        }
      ]
    },
    {
      "cell_type": "code",
      "source": [
        "z = np.arange(3)\n",
        "z"
      ],
      "metadata": {
        "colab": {
          "base_uri": "https://localhost:8080/"
        },
        "outputId": "e04e2dca-b8cb-4b58-aee6-2801ff4ade91",
        "id": "M7a8OfRlsfDn"
      },
      "execution_count": 135,
      "outputs": [
        {
          "output_type": "execute_result",
          "data": {
            "text/plain": [
              "array([0, 1, 2])"
            ]
          },
          "metadata": {},
          "execution_count": 135
        }
      ]
    },
    {
      "cell_type": "code",
      "source": [
        "x + z"
      ],
      "metadata": {
        "colab": {
          "base_uri": "https://localhost:8080/"
        },
        "outputId": "c7fe8492-8361-43f1-f453-396c3e5e2550",
        "id": "PjVzTsRQsfDu"
      },
      "execution_count": 136,
      "outputs": [
        {
          "output_type": "execute_result",
          "data": {
            "text/plain": [
              "array([[0, 2, 4],\n",
              "       [1, 3, 5],\n",
              "       [2, 4, 6],\n",
              "       [3, 5, 7],\n",
              "       [4, 6, 8]])"
            ]
          },
          "metadata": {},
          "execution_count": 136
        }
      ]
    },
    {
      "cell_type": "markdown",
      "source": [
        "## 차원 축소 연산 (dimension reduction)\n",
        "> 행렬의 하나의 행에 있는 원소들을 하나의 데이터 집합으로 보고 각 행에 처리된 연산으로 한 차원 낮은 벡터를 구성하게 하는 연산\n",
        "* 최대/최소 : `min`, `max`, `argmin`, `argmax`\n",
        "* 통계 : `sum`, `mean`, `median`, `std`, `var`\n",
        "* 불리언 : `all`, `any`"
      ],
      "metadata": {
        "id": "c4xwPdamAFZ_"
      }
    },
    {
      "cell_type": "code",
      "source": [
        "x = np.arange(1, 5)\n",
        "x"
      ],
      "metadata": {
        "colab": {
          "base_uri": "https://localhost:8080/"
        },
        "id": "8zlZOCFfAiAZ",
        "outputId": "9764aa2a-1b4b-46e6-bbeb-9f79aef49054"
      },
      "execution_count": 145,
      "outputs": [
        {
          "output_type": "execute_result",
          "data": {
            "text/plain": [
              "array([1, 2, 3, 4])"
            ]
          },
          "metadata": {},
          "execution_count": 145
        }
      ]
    },
    {
      "cell_type": "code",
      "source": [
        "# sum\n",
        "np.sum(x), x.sum()"
      ],
      "metadata": {
        "colab": {
          "base_uri": "https://localhost:8080/"
        },
        "id": "sSfvD2j2AiRw",
        "outputId": "d9592b83-ee23-4aa5-e0ec-15f3be7ab398"
      },
      "execution_count": 146,
      "outputs": [
        {
          "output_type": "execute_result",
          "data": {
            "text/plain": [
              "(10, 10)"
            ]
          },
          "metadata": {},
          "execution_count": 146
        }
      ]
    },
    {
      "cell_type": "code",
      "source": [
        "x = np.array([1, 3, 2])"
      ],
      "metadata": {
        "id": "cyswMEnRAkab"
      },
      "execution_count": 147,
      "outputs": []
    },
    {
      "cell_type": "code",
      "source": [
        "x.max(), x.min(), np.max(x), np.min(x)"
      ],
      "metadata": {
        "colab": {
          "base_uri": "https://localhost:8080/"
        },
        "id": "pKlL475YAlY9",
        "outputId": "a93c1aa8-7c00-4920-ce9e-ba9439d0493a"
      },
      "execution_count": 149,
      "outputs": [
        {
          "output_type": "execute_result",
          "data": {
            "text/plain": [
              "(3, 1, 3, 1)"
            ]
          },
          "metadata": {},
          "execution_count": 149
        }
      ]
    },
    {
      "cell_type": "code",
      "source": [
        "# 주어진 인수들 묶음 중에 최댓값의 인덱스\n",
        "x.argmax(), np.argmax(x) # 최댓값의 위치"
      ],
      "metadata": {
        "colab": {
          "base_uri": "https://localhost:8080/"
        },
        "id": "Zbq6zUeEAnAy",
        "outputId": "9c4b6af4-2766-49b5-b331-2e61c0f1c19d"
      },
      "execution_count": 150,
      "outputs": [
        {
          "output_type": "execute_result",
          "data": {
            "text/plain": [
              "(1, 1)"
            ]
          },
          "metadata": {},
          "execution_count": 150
        }
      ]
    },
    {
      "cell_type": "code",
      "source": [
        "import random\n",
        "arr = np.array(random.choices(range(1000_000), k=5))\n",
        "arr"
      ],
      "metadata": {
        "colab": {
          "base_uri": "https://localhost:8080/"
        },
        "id": "o6NkXthQAoSZ",
        "outputId": "b76f2f15-7862-4fa0-cff4-597df10fad45"
      },
      "execution_count": 151,
      "outputs": [
        {
          "output_type": "execute_result",
          "data": {
            "text/plain": [
              "array([715408, 855691, 837255, 199144,  73467])"
            ]
          },
          "metadata": {},
          "execution_count": 151
        }
      ]
    },
    {
      "cell_type": "code",
      "source": [
        "arr.max(), arr.min()"
      ],
      "metadata": {
        "id": "gGNSVN69Azib",
        "colab": {
          "base_uri": "https://localhost:8080/"
        },
        "outputId": "7dc5ebe9-f494-4da8-ca73-d4f298f84e9e"
      },
      "execution_count": 152,
      "outputs": [
        {
          "output_type": "execute_result",
          "data": {
            "text/plain": [
              "(855691, 73467)"
            ]
          },
          "metadata": {},
          "execution_count": 152
        }
      ]
    },
    {
      "cell_type": "code",
      "source": [
        "arr2 = [\"민수\",\"민철\", \"철민\", \"수민\", \"철철\"]\n",
        "arr2[arr.argmax()], arr2[arr.argmin()]"
      ],
      "metadata": {
        "colab": {
          "base_uri": "https://localhost:8080/"
        },
        "id": "_ya-Gcp-A2Hz",
        "outputId": "15e5c868-ea2c-4167-9d4b-5ea3d989d6a8"
      },
      "execution_count": 153,
      "outputs": [
        {
          "output_type": "execute_result",
          "data": {
            "text/plain": [
              "('민철', '철철')"
            ]
          },
          "metadata": {},
          "execution_count": 153
        }
      ]
    },
    {
      "cell_type": "code",
      "source": [
        "arr"
      ],
      "metadata": {
        "colab": {
          "base_uri": "https://localhost:8080/"
        },
        "id": "LSbR-7oAA3xE",
        "outputId": "d5e7bc36-e5ca-4ca3-b9eb-dbc32d85eab3"
      },
      "execution_count": 154,
      "outputs": [
        {
          "output_type": "execute_result",
          "data": {
            "text/plain": [
              "array([715408, 855691, 837255, 199144,  73467])"
            ]
          },
          "metadata": {},
          "execution_count": 154
        }
      ]
    },
    {
      "cell_type": "code",
      "source": [
        "arr.mean(), np.mean(arr), arr.sum() / len(arr)"
      ],
      "metadata": {
        "colab": {
          "base_uri": "https://localhost:8080/"
        },
        "id": "MvY9dhvoA4aD",
        "outputId": "60f77586-b3c9-4c16-e813-a3b5e4b31a05"
      },
      "execution_count": 155,
      "outputs": [
        {
          "output_type": "execute_result",
          "data": {
            "text/plain": [
              "(536193.0, 536193.0, 536193.0)"
            ]
          },
          "metadata": {},
          "execution_count": 155
        }
      ]
    },
    {
      "cell_type": "code",
      "source": [
        "#대푯값 -> 평균값, 최빈값, 중앙값(중간값)\n",
        "np.median(arr)"
      ],
      "metadata": {
        "colab": {
          "base_uri": "https://localhost:8080/"
        },
        "id": "dfRIlrPjA6kV",
        "outputId": "6df97b37-1320-4fe3-9ad5-ed4ae66192f8"
      },
      "execution_count": 156,
      "outputs": [
        {
          "output_type": "execute_result",
          "data": {
            "text/plain": [
              "715408.0"
            ]
          },
          "metadata": {},
          "execution_count": 156
        }
      ]
    },
    {
      "cell_type": "code",
      "source": [
        "arr2 = np.array(random.choices(range(1000_000),k=6))\n",
        "arr2"
      ],
      "metadata": {
        "id": "uCsGPUDIA8Df",
        "colab": {
          "base_uri": "https://localhost:8080/"
        },
        "outputId": "0987738a-3e19-40c7-dabd-d10978f5bb3f"
      },
      "execution_count": 158,
      "outputs": [
        {
          "output_type": "execute_result",
          "data": {
            "text/plain": [
              "array([191181, 157924,  36772, 904329, 953152, 340749])"
            ]
          },
          "metadata": {},
          "execution_count": 158
        }
      ]
    },
    {
      "cell_type": "code",
      "source": [
        "np.median(arr2)"
      ],
      "metadata": {
        "colab": {
          "base_uri": "https://localhost:8080/"
        },
        "id": "A5wy-HhpBArR",
        "outputId": "7d8aa0f8-2988-4ffe-c5e2-801e9290cc18"
      },
      "execution_count": 159,
      "outputs": [
        {
          "output_type": "execute_result",
          "data": {
            "text/plain": [
              "265965.0"
            ]
          },
          "metadata": {},
          "execution_count": 159
        }
      ]
    },
    {
      "cell_type": "code",
      "source": [
        "np.any(arr > 1000_000)"
      ],
      "metadata": {
        "colab": {
          "base_uri": "https://localhost:8080/"
        },
        "id": "CjAwdeV8BCqi",
        "outputId": "65af15f2-fe51-41a1-df37-e7e590d1684a"
      },
      "execution_count": 160,
      "outputs": [
        {
          "output_type": "execute_result",
          "data": {
            "text/plain": [
              "False"
            ]
          },
          "metadata": {},
          "execution_count": 160
        }
      ]
    },
    {
      "cell_type": "code",
      "source": [
        "np.all(arr > 0)"
      ],
      "metadata": {
        "id": "huAdtJUQBD6O",
        "colab": {
          "base_uri": "https://localhost:8080/"
        },
        "outputId": "c38aa6fd-f8cb-4b09-95fc-dc3c5bd5bcff"
      },
      "execution_count": 161,
      "outputs": [
        {
          "output_type": "execute_result",
          "data": {
            "text/plain": [
              "True"
            ]
          },
          "metadata": {},
          "execution_count": 161
        }
      ]
    },
    {
      "cell_type": "code",
      "source": [
        "(arr> 0).all() #배열들 중에 모두가 True인가"
      ],
      "metadata": {
        "colab": {
          "base_uri": "https://localhost:8080/"
        },
        "id": "aPKJctaWBF5w",
        "outputId": "427cbccb-1325-473c-a6cc-0e177b93aa89"
      },
      "execution_count": 163,
      "outputs": [
        {
          "output_type": "execute_result",
          "data": {
            "text/plain": [
              "True"
            ]
          },
          "metadata": {},
          "execution_count": 163
        }
      ]
    },
    {
      "cell_type": "code",
      "source": [
        "(arr> 500000).any() #배열들 중에 하나라도 True가 있는가?"
      ],
      "metadata": {
        "colab": {
          "base_uri": "https://localhost:8080/"
        },
        "id": "4VI3bN_fyZpl",
        "outputId": "e234152f-aa5b-4ff6-9539-6527a9a33909"
      },
      "execution_count": 164,
      "outputs": [
        {
          "output_type": "execute_result",
          "data": {
            "text/plain": [
              "True"
            ]
          },
          "metadata": {},
          "execution_count": 164
        }
      ]
    },
    {
      "cell_type": "markdown",
      "source": [
        "* 연산의 대상이 2차원 이상인 경우에는 어느 차원으로 계산을 할 지를 axis 인수를 사용하여 지시\n",
        "* axis=0인 경우는 열 연산, axis=1인 경우는 행 연산. 디폴트 값은 axis=0.\n",
        "* axis 인수는 대부분의 차원 축소 명령에 적용할 수 있음"
      ],
      "metadata": {
        "id": "WPEoDlcJBM9k"
      }
    },
    {
      "cell_type": "code",
      "source": [
        "x = np.array(np.array(random.choices(range(1000_000), k=4))).reshape(2, -2)\n",
        "x"
      ],
      "metadata": {
        "colab": {
          "base_uri": "https://localhost:8080/"
        },
        "id": "x2aY5O1DBHKl",
        "outputId": "a68fe766-9962-4131-9d8b-7fade47c9f7b"
      },
      "execution_count": 166,
      "outputs": [
        {
          "output_type": "execute_result",
          "data": {
            "text/plain": [
              "array([[829905, 798977],\n",
              "       [716517, 863134]])"
            ]
          },
          "metadata": {},
          "execution_count": 166
        }
      ]
    },
    {
      "cell_type": "code",
      "source": [
        "x.sum()  #차원 고려 안하고 모두를 더해버림"
      ],
      "metadata": {
        "colab": {
          "base_uri": "https://localhost:8080/"
        },
        "id": "TCf_XLwkBSqf",
        "outputId": "0066160d-9b92-4df6-b0fc-efdbc424500e"
      },
      "execution_count": 167,
      "outputs": [
        {
          "output_type": "execute_result",
          "data": {
            "text/plain": [
              "3208533"
            ]
          },
          "metadata": {},
          "execution_count": 167
        }
      ]
    },
    {
      "cell_type": "code",
      "source": [
        "x.sum(axis=0)  # 열 합계 (열들 간의 연산)\n",
        "# 다른 행의 같은 열들 간의 연산 -> 열의 수가 보존"
      ],
      "metadata": {
        "colab": {
          "base_uri": "https://localhost:8080/"
        },
        "id": "svBdZRipBTtx",
        "outputId": "c96125d2-b000-416d-ef25-a8976178dd78"
      },
      "execution_count": 170,
      "outputs": [
        {
          "output_type": "execute_result",
          "data": {
            "text/plain": [
              "array([1546422, 1662111])"
            ]
          },
          "metadata": {},
          "execution_count": 170
        }
      ]
    },
    {
      "cell_type": "code",
      "source": [
        "x.sum(axis=1)  # 행 합계 (행들 간의 연산)\n",
        "# 다른 열의 같은 행들 간의 연산 -> 행의 수가 보존.\n",
        "# axis => 축소할 축을 지정."
      ],
      "metadata": {
        "colab": {
          "base_uri": "https://localhost:8080/"
        },
        "id": "1XcpsHpPzimq",
        "outputId": "3cb53213-f16d-4ac3-dad5-bc8215756850"
      },
      "execution_count": 171,
      "outputs": [
        {
          "output_type": "execute_result",
          "data": {
            "text/plain": [
              "array([1628882, 1579651])"
            ]
          },
          "metadata": {},
          "execution_count": 171
        }
      ]
    },
    {
      "cell_type": "markdown",
      "source": [
        "## 💡 연습문제 5\n",
        "실수로 이루어진 5 x 6 형태의 데이터 행렬을 만들고 이 데이터에 대해 다음과 같은 값 도출\n",
        "1. 전체의 최댓값\n",
        "2. 각 행의 합\n",
        "3. 각 행의 최댓값\n",
        "4. 각 열의 평균\n",
        "5. 각 열의 최솟값"
      ],
      "metadata": {
        "id": "wu9TlD2oBgxn"
      }
    },
    {
      "cell_type": "code",
      "source": [
        "a = np.arange(30, dtype ='f').reshape((5,6))"
      ],
      "metadata": {
        "id": "0wDF67eFBX6m"
      },
      "execution_count": 185,
      "outputs": []
    },
    {
      "cell_type": "code",
      "source": [
        "# 전체의 최댓값\n",
        "a.max()"
      ],
      "metadata": {
        "colab": {
          "base_uri": "https://localhost:8080/"
        },
        "id": "T1rBg-FEBxiB",
        "outputId": "8e35c6c7-04d4-427a-b769-bb6d9522f3c4"
      },
      "execution_count": 186,
      "outputs": [
        {
          "output_type": "execute_result",
          "data": {
            "text/plain": [
              "29.0"
            ]
          },
          "metadata": {},
          "execution_count": 186
        }
      ]
    },
    {
      "cell_type": "code",
      "source": [
        "# 각 행의 합\n",
        "a.sum(axis=1)"
      ],
      "metadata": {
        "colab": {
          "base_uri": "https://localhost:8080/"
        },
        "id": "2MX12OYJB0z6",
        "outputId": "751ecc2b-f767-4e57-8690-aed0e54b1012"
      },
      "execution_count": 187,
      "outputs": [
        {
          "output_type": "execute_result",
          "data": {
            "text/plain": [
              "array([ 15.,  51.,  87., 123., 159.], dtype=float32)"
            ]
          },
          "metadata": {},
          "execution_count": 187
        }
      ]
    },
    {
      "cell_type": "code",
      "source": [
        "# 각 행의 최댓값\n",
        "a.max(axis=0)"
      ],
      "metadata": {
        "colab": {
          "base_uri": "https://localhost:8080/"
        },
        "id": "4mWNB5ypB4Lj",
        "outputId": "11a8185f-96f9-4b52-82a8-eeda69fbc592"
      },
      "execution_count": 188,
      "outputs": [
        {
          "output_type": "execute_result",
          "data": {
            "text/plain": [
              "array([24., 25., 26., 27., 28., 29.], dtype=float32)"
            ]
          },
          "metadata": {},
          "execution_count": 188
        }
      ]
    },
    {
      "cell_type": "code",
      "source": [
        "# 각 열의 평균\n",
        "a.mean(axis=0)"
      ],
      "metadata": {
        "colab": {
          "base_uri": "https://localhost:8080/"
        },
        "id": "ubUjoWPBB7fB",
        "outputId": "bda46a53-d372-4b19-b822-59f38fc38275"
      },
      "execution_count": 189,
      "outputs": [
        {
          "output_type": "execute_result",
          "data": {
            "text/plain": [
              "array([12., 13., 14., 15., 16., 17.], dtype=float32)"
            ]
          },
          "metadata": {},
          "execution_count": 189
        }
      ]
    },
    {
      "cell_type": "code",
      "source": [
        "# 각 열의 최솟값\n",
        "a.min(axis=0)"
      ],
      "metadata": {
        "colab": {
          "base_uri": "https://localhost:8080/"
        },
        "id": "Tccdtf2zCItV",
        "outputId": "2e261347-8136-437f-b035-6abedaf8b905"
      },
      "execution_count": 190,
      "outputs": [
        {
          "output_type": "execute_result",
          "data": {
            "text/plain": [
              "array([0., 1., 2., 3., 4., 5.], dtype=float32)"
            ]
          },
          "metadata": {},
          "execution_count": 190
        }
      ]
    },
    {
      "cell_type": "markdown",
      "source": [
        "## 정렬\n",
        "* `sort` : 배열 안의 원소를 크기에 따라 정렬하여 새로운 배열 생성\n",
        "* 2차원 이상인 경우에는 행이나 열을 각각 따로따로 정렬\n",
        "    * `axis=0` : 각각의 행을 따로따로 정렬\n",
        "    * `axis=1` : 각각의 열을 따로따로 정렬\n",
        "    * `axis=-1` : 가장 안쪽(나중)의 차원 (default)"
      ],
      "metadata": {
        "id": "V1Hl_stfCNjO"
      }
    },
    {
      "cell_type": "code",
      "source": [
        "a = np.array(\n",
        "    (\n",
        "    [4, 3, 5, 7],\n",
        "    [1, 12, 11, 9],\n",
        "    [2, 15, 1, 14]\n",
        "    )\n",
        ")\n",
        "a"
      ],
      "metadata": {
        "colab": {
          "base_uri": "https://localhost:8080/"
        },
        "id": "8Brlt6RODt-h",
        "outputId": "83ee2486-0087-4984-cec9-5e99b27903a9"
      },
      "execution_count": 172,
      "outputs": [
        {
          "output_type": "execute_result",
          "data": {
            "text/plain": [
              "array([[ 4,  3,  5,  7],\n",
              "       [ 1, 12, 11,  9],\n",
              "       [ 2, 15,  1, 14]])"
            ]
          },
          "metadata": {},
          "execution_count": 172
        }
      ]
    },
    {
      "cell_type": "code",
      "source": [
        "np.sort(a), np.sort(a, axis=-1), np.sort(a) # axis=-1 (가장 안쪽), axis=1 열들 간의 정렬"
      ],
      "metadata": {
        "colab": {
          "base_uri": "https://localhost:8080/"
        },
        "id": "vDlML3DSDvUj",
        "outputId": "7d1e6f11-47e5-416a-bb44-e64dba60d7a9"
      },
      "execution_count": 174,
      "outputs": [
        {
          "output_type": "execute_result",
          "data": {
            "text/plain": [
              "(array([[ 3,  4,  5,  7],\n",
              "        [ 1,  9, 11, 12],\n",
              "        [ 1,  2, 14, 15]]),\n",
              " array([[ 3,  4,  5,  7],\n",
              "        [ 1,  9, 11, 12],\n",
              "        [ 1,  2, 14, 15]]),\n",
              " array([[ 3,  4,  5,  7],\n",
              "        [ 1,  9, 11, 12],\n",
              "        [ 1,  2, 14, 15]]))"
            ]
          },
          "metadata": {},
          "execution_count": 174
        }
      ]
    },
    {
      "cell_type": "code",
      "source": [
        "np.sort(a, axis=0)"
      ],
      "metadata": {
        "colab": {
          "base_uri": "https://localhost:8080/"
        },
        "id": "71fdz0tXDw1i",
        "outputId": "0fad0feb-03da-4704-a468-08a651cfcb6d"
      },
      "execution_count": 175,
      "outputs": [
        {
          "output_type": "execute_result",
          "data": {
            "text/plain": [
              "array([[ 1,  3,  1,  7],\n",
              "       [ 2, 12,  5,  9],\n",
              "       [ 4, 15, 11, 14]])"
            ]
          },
          "metadata": {},
          "execution_count": 175
        }
      ]
    },
    {
      "cell_type": "code",
      "source": [
        "np.sort(a), np.sort(a)[:,::-1]"
      ],
      "metadata": {
        "colab": {
          "base_uri": "https://localhost:8080/"
        },
        "id": "7bvLhRIV1QLX",
        "outputId": "df2581c9-ab9a-4292-9b2b-3278952ca251"
      },
      "execution_count": 176,
      "outputs": [
        {
          "output_type": "execute_result",
          "data": {
            "text/plain": [
              "(array([[ 3,  4,  5,  7],\n",
              "        [ 1,  9, 11, 12],\n",
              "        [ 1,  2, 14, 15]]),\n",
              " array([[ 7,  5,  4,  3],\n",
              "        [12, 11,  9,  1],\n",
              "        [15, 14,  2,  1]]))"
            ]
          },
          "metadata": {},
          "execution_count": 176
        }
      ]
    },
    {
      "cell_type": "code",
      "source": [
        "np.sort(a, axis=0), np.sort(a, axis=0)[::-1,:]"
      ],
      "metadata": {
        "colab": {
          "base_uri": "https://localhost:8080/"
        },
        "id": "d9qSH1jf1Rti",
        "outputId": "21c5a7a7-475f-4aaf-ca3d-ba59f6ac3634"
      },
      "execution_count": 177,
      "outputs": [
        {
          "output_type": "execute_result",
          "data": {
            "text/plain": [
              "(array([[ 1,  3,  1,  7],\n",
              "        [ 2, 12,  5,  9],\n",
              "        [ 4, 15, 11, 14]]),\n",
              " array([[ 4, 15, 11, 14],\n",
              "        [ 2, 12,  5,  9],\n",
              "        [ 1,  3,  1,  7]]))"
            ]
          },
          "metadata": {},
          "execution_count": 177
        }
      ]
    },
    {
      "cell_type": "code",
      "source": [
        "np.sort(a, axis=0), a  # 복사."
      ],
      "metadata": {
        "colab": {
          "base_uri": "https://localhost:8080/"
        },
        "id": "EeL01EEs1Uy7",
        "outputId": "fa077ad5-1991-4c95-c2c3-0e9dba5505df"
      },
      "execution_count": 178,
      "outputs": [
        {
          "output_type": "execute_result",
          "data": {
            "text/plain": [
              "(array([[ 1,  3,  1,  7],\n",
              "        [ 2, 12,  5,  9],\n",
              "        [ 4, 15, 11, 14]]),\n",
              " array([[ 4,  3,  5,  7],\n",
              "        [ 1, 12, 11,  9],\n",
              "        [ 2, 15,  1, 14]]))"
            ]
          },
          "metadata": {},
          "execution_count": 178
        }
      ]
    },
    {
      "cell_type": "code",
      "source": [
        "# sort 메서드는 해당 객체의 자료 자체가 변화하므로 주의\n",
        "# 자체변화(in-place) 메서드 = 원본이 수정됨\n",
        "print(a)\n",
        "a.sort()\n",
        "print(a)\n",
        "a.sort(axis=0)\n",
        "print(a)\n",
        "a.sort(axis=1)\n",
        "print(a)"
      ],
      "metadata": {
        "colab": {
          "base_uri": "https://localhost:8080/"
        },
        "id": "Bg3m5YtMDziF",
        "outputId": "6f4cd801-370e-496a-d5c8-51c0e92bc6ad"
      },
      "execution_count": 179,
      "outputs": [
        {
          "output_type": "stream",
          "name": "stdout",
          "text": [
            "[[ 4  3  5  7]\n",
            " [ 1 12 11  9]\n",
            " [ 2 15  1 14]]\n",
            "[[ 3  4  5  7]\n",
            " [ 1  9 11 12]\n",
            " [ 1  2 14 15]]\n",
            "[[ 1  2  5  7]\n",
            " [ 1  4 11 12]\n",
            " [ 3  9 14 15]]\n",
            "[[ 1  2  5  7]\n",
            " [ 1  4 11 12]\n",
            " [ 3  9 14 15]]\n"
          ]
        }
      ]
    },
    {
      "cell_type": "markdown",
      "source": [
        "* `argsort` : 자료 정렬이 아니라 순서만 알고 싶다면 사용"
      ],
      "metadata": {
        "id": "83QvaXeHEE1P"
      }
    },
    {
      "cell_type": "code",
      "source": [
        "a = np.array([42, 38, 12, 25])\n",
        "j = np.argsort(a)\n",
        "j"
      ],
      "metadata": {
        "colab": {
          "base_uri": "https://localhost:8080/"
        },
        "id": "DpLBeDjJEAUQ",
        "outputId": "e906f131-4700-4619-ac82-e86e3fd7dc09"
      },
      "execution_count": 180,
      "outputs": [
        {
          "output_type": "execute_result",
          "data": {
            "text/plain": [
              "array([2, 3, 1, 0])"
            ]
          },
          "metadata": {},
          "execution_count": 180
        }
      ]
    },
    {
      "cell_type": "code",
      "source": [
        "a[j]"
      ],
      "metadata": {
        "colab": {
          "base_uri": "https://localhost:8080/"
        },
        "id": "1F6Lqg6KEKgj",
        "outputId": "a8130602-23c0-490d-b930-ac3d056e7cfd"
      },
      "execution_count": 181,
      "outputs": [
        {
          "output_type": "execute_result",
          "data": {
            "text/plain": [
              "array([12, 25, 38, 42])"
            ]
          },
          "metadata": {},
          "execution_count": 181
        }
      ]
    },
    {
      "cell_type": "code",
      "source": [
        "np.sort(a)"
      ],
      "metadata": {
        "colab": {
          "base_uri": "https://localhost:8080/"
        },
        "id": "KdFvTG6VENQF",
        "outputId": "76f9c31f-bc45-4d5f-f452-59fb3ddfbe15"
      },
      "execution_count": 182,
      "outputs": [
        {
          "output_type": "execute_result",
          "data": {
            "text/plain": [
              "array([12, 25, 38, 42])"
            ]
          },
          "metadata": {},
          "execution_count": 182
        }
      ]
    },
    {
      "cell_type": "code",
      "source": [
        "a[j[::-1]]"
      ],
      "metadata": {
        "colab": {
          "base_uri": "https://localhost:8080/"
        },
        "id": "ymBYuj3T1lyr",
        "outputId": "2efc887c-ad29-4a4d-eb1e-8b6d3ceff23f"
      },
      "execution_count": 184,
      "outputs": [
        {
          "output_type": "execute_result",
          "data": {
            "text/plain": [
              "array([42, 38, 25, 12])"
            ]
          },
          "metadata": {},
          "execution_count": 184
        }
      ]
    },
    {
      "cell_type": "markdown",
      "source": [
        "## 💡 연습문제 6\n",
        "> 두 번째 행을 기준으로 각 열(column)을 재정렬\n",
        "```\n",
        "array([[  1,    2,    3,    4],\n",
        "       [ 46,   99,  100,   71],\n",
        "       [ 81,   59,   90,  100]])\n",
        "```"
      ],
      "metadata": {
        "id": "qR6INELiEUEU"
      }
    },
    {
      "cell_type": "code",
      "source": [
        "x = np.array([\n",
        "    [1, 2, 3, 4],\n",
        "    [46, 99, 100, 71],\n",
        "    [81, 59, 90, 100]\n",
        "])\n",
        "x"
      ],
      "metadata": {
        "colab": {
          "base_uri": "https://localhost:8080/"
        },
        "id": "el8EU7kYETyV",
        "outputId": "c12131ad-7aa6-4d93-d3b9-7684f8865453"
      },
      "execution_count": 192,
      "outputs": [
        {
          "output_type": "execute_result",
          "data": {
            "text/plain": [
              "array([[  1,   2,   3,   4],\n",
              "       [ 46,  99, 100,  71],\n",
              "       [ 81,  59,  90, 100]])"
            ]
          },
          "metadata": {},
          "execution_count": 192
        }
      ]
    },
    {
      "cell_type": "code",
      "source": [
        "x[:]"
      ],
      "metadata": {
        "colab": {
          "base_uri": "https://localhost:8080/"
        },
        "id": "ITZQ5ZPR2xjG",
        "outputId": "92ddb374-3870-4cad-c737-b8655e230902"
      },
      "execution_count": 194,
      "outputs": [
        {
          "output_type": "execute_result",
          "data": {
            "text/plain": [
              "array([[  1,   2,   3,   4],\n",
              "       [ 46,  99, 100,  71],\n",
              "       [ 81,  59,  90, 100]])"
            ]
          },
          "metadata": {},
          "execution_count": 194
        }
      ]
    },
    {
      "cell_type": "code",
      "source": [
        "# np.sort(x[1])\n",
        "np.argsort(x[1])"
      ],
      "metadata": {
        "colab": {
          "base_uri": "https://localhost:8080/"
        },
        "id": "iovy4mFM27M7",
        "outputId": "69545f6d-e5a0-48c7-86be-bc126048e7b2"
      },
      "execution_count": 195,
      "outputs": [
        {
          "output_type": "execute_result",
          "data": {
            "text/plain": [
              "array([0, 3, 1, 2])"
            ]
          },
          "metadata": {},
          "execution_count": 195
        }
      ]
    },
    {
      "cell_type": "code",
      "source": [
        "x[:, np.argsort(x[1])]"
      ],
      "metadata": {
        "colab": {
          "base_uri": "https://localhost:8080/"
        },
        "id": "UwdhcK1F29AS",
        "outputId": "99770991-67cf-48c0-9003-f04855512e35"
      },
      "execution_count": 196,
      "outputs": [
        {
          "output_type": "execute_result",
          "data": {
            "text/plain": [
              "array([[  1,   4,   2,   3],\n",
              "       [ 46,  71,  99, 100],\n",
              "       [ 81, 100,  59,  90]])"
            ]
          },
          "metadata": {},
          "execution_count": 196
        }
      ]
    }
  ]
}